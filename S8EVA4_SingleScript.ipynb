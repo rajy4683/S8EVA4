{
  "nbformat": 4,
  "nbformat_minor": 0,
  "metadata": {
    "colab": {
      "name": " S8EVA4_SingleScript.ipynb",
      "provenance": [],
      "collapsed_sections": [],
      "include_colab_link": true
    },
    "kernelspec": {
      "name": "python3",
      "display_name": "Python 3"
    },
    "accelerator": "GPU"
  },
  "cells": [
    {
      "cell_type": "markdown",
      "metadata": {
        "id": "view-in-github",
        "colab_type": "text"
      },
      "source": [
        "<a href=\"https://colab.research.google.com/github/rajy4683/S8EVA4/blob/master/S8EVA4_SingleScript.ipynb\" target=\"_parent\"><img src=\"https://colab.research.google.com/assets/colab-badge.svg\" alt=\"Open In Colab\"/></a>"
      ]
    },
    {
      "cell_type": "code",
      "metadata": {
        "id": "TkeUIDcSJXUE",
        "colab_type": "code",
        "outputId": "f8c60355-04aa-4127-b383-d262a815ddb8",
        "colab": {
          "base_uri": "https://localhost:8080/",
          "height": 34
        }
      },
      "source": [
        "from google.colab import drive\n",
        "drive.mount('/content/drive')\n",
        "import sys"
      ],
      "execution_count": 1,
      "outputs": [
        {
          "output_type": "stream",
          "text": [
            "Drive already mounted at /content/drive; to attempt to forcibly remount, call drive.mount(\"/content/drive\", force_remount=True).\n"
          ],
          "name": "stdout"
        }
      ]
    },
    {
      "cell_type": "markdown",
      "metadata": {
        "id": "gQc6tVsEMKsk",
        "colab_type": "text"
      },
      "source": [
        "\n",
        "### **[RekogNizer library](https://github.com/rajy4683/RekogNizer.git) contains the following files:**\n",
        "```\n",
        "1. basemodelclass.py:   Contains core model definitions. \n",
        "2. fileutils.py:        Contains utility functions for model_name_generation, plotting functions \n",
        "3. dataloader.py:       Contains dataloaders for both training and test data\n",
        "4. traintest.py:        Contains core training, test and model execution flow routines. \n",
        "5. logger.py:           Contains functions to handle WANDB integration\n",
        "6. hyperparams.py:      Contains values of default hyperparameters alongwith getter and setter functions   \n",
        "7. train_s7_new.py:     Main wrapper script or point of entry. It parses hyperparameters as arguments\n",
        "8. requirements.txt:    Specific libraries that need to be available in the environment\n",
        "```\n",
        "\n",
        "\n",
        "\n",
        "\n",
        "\n",
        "\n"
      ]
    },
    {
      "cell_type": "markdown",
      "metadata": {
        "id": "p5sd4efFT2AF",
        "colab_type": "text"
      },
      "source": [
        "#### Downloading and installing dependencies from the GitHub link:\n"
      ]
    },
    {
      "cell_type": "code",
      "metadata": {
        "id": "-u1pUWK8PGHF",
        "colab_type": "code",
        "colab": {}
      },
      "source": [
        "!git clone https://github.com/rajy4683/RekogNizer.git /content/drive/My\\ Drive/EVA4/RekogNizer"
      ],
      "execution_count": 0,
      "outputs": []
    },
    {
      "cell_type": "code",
      "metadata": {
        "id": "M5CIVlNHJeJI",
        "colab_type": "code",
        "outputId": "b8b74212-2ceb-4c2c-e87c-bb366ba8f1f7",
        "colab": {
          "base_uri": "https://localhost:8080/",
          "height": 642
        }
      },
      "source": [
        "!pip install -r /content/drive/My\\ Drive/EVA4/RekogNizer/requirements.txt"
      ],
      "execution_count": 2,
      "outputs": [
        {
          "output_type": "stream",
          "text": [
            "Requirement already satisfied: pytorch-ignite in /usr/local/lib/python3.6/dist-packages (from -r /content/drive/My Drive/EVA4/RekogNizer/requirements.txt (line 1)) (0.3.0)\n",
            "Requirement already satisfied: torchsummary in /usr/local/lib/python3.6/dist-packages (from -r /content/drive/My Drive/EVA4/RekogNizer/requirements.txt (line 2)) (1.5.1)\n",
            "Requirement already satisfied: wandb in /usr/local/lib/python3.6/dist-packages (from -r /content/drive/My Drive/EVA4/RekogNizer/requirements.txt (line 3)) (0.8.28)\n",
            "Requirement already satisfied: numpy in /usr/local/lib/python3.6/dist-packages (from -r /content/drive/My Drive/EVA4/RekogNizer/requirements.txt (line 5)) (1.17.5)\n",
            "Requirement already satisfied: torch in /usr/local/lib/python3.6/dist-packages (from -r /content/drive/My Drive/EVA4/RekogNizer/requirements.txt (line 6)) (1.4.0)\n",
            "Requirement already satisfied: torchvision in /usr/local/lib/python3.6/dist-packages (from -r /content/drive/My Drive/EVA4/RekogNizer/requirements.txt (line 7)) (0.5.0)\n",
            "Requirement already satisfied: matplotlib in /usr/local/lib/python3.6/dist-packages (from -r /content/drive/My Drive/EVA4/RekogNizer/requirements.txt (line 8)) (3.1.3)\n",
            "Requirement already satisfied: nvidia-ml-py3>=7.352.0 in /usr/local/lib/python3.6/dist-packages (from wandb->-r /content/drive/My Drive/EVA4/RekogNizer/requirements.txt (line 3)) (7.352.0)\n",
            "Requirement already satisfied: six>=1.10.0 in /usr/local/lib/python3.6/dist-packages (from wandb->-r /content/drive/My Drive/EVA4/RekogNizer/requirements.txt (line 3)) (1.12.0)\n",
            "Requirement already satisfied: PyYAML>=3.10 in /usr/local/lib/python3.6/dist-packages (from wandb->-r /content/drive/My Drive/EVA4/RekogNizer/requirements.txt (line 3)) (3.13)\n",
            "Requirement already satisfied: configparser>=3.8.1 in /usr/local/lib/python3.6/dist-packages (from wandb->-r /content/drive/My Drive/EVA4/RekogNizer/requirements.txt (line 3)) (4.0.2)\n",
            "Requirement already satisfied: Click>=7.0 in /usr/local/lib/python3.6/dist-packages (from wandb->-r /content/drive/My Drive/EVA4/RekogNizer/requirements.txt (line 3)) (7.0)\n",
            "Requirement already satisfied: requests>=2.0.0 in /usr/local/lib/python3.6/dist-packages (from wandb->-r /content/drive/My Drive/EVA4/RekogNizer/requirements.txt (line 3)) (2.21.0)\n",
            "Requirement already satisfied: subprocess32>=3.5.3 in /usr/local/lib/python3.6/dist-packages (from wandb->-r /content/drive/My Drive/EVA4/RekogNizer/requirements.txt (line 3)) (3.5.4)\n",
            "Requirement already satisfied: docker-pycreds>=0.4.0 in /usr/local/lib/python3.6/dist-packages (from wandb->-r /content/drive/My Drive/EVA4/RekogNizer/requirements.txt (line 3)) (0.4.0)\n",
            "Requirement already satisfied: GitPython>=1.0.0 in /usr/local/lib/python3.6/dist-packages (from wandb->-r /content/drive/My Drive/EVA4/RekogNizer/requirements.txt (line 3)) (3.1.0)\n",
            "Requirement already satisfied: watchdog>=0.8.3 in /usr/local/lib/python3.6/dist-packages (from wandb->-r /content/drive/My Drive/EVA4/RekogNizer/requirements.txt (line 3)) (0.10.2)\n",
            "Requirement already satisfied: sentry-sdk>=0.4.0 in /usr/local/lib/python3.6/dist-packages (from wandb->-r /content/drive/My Drive/EVA4/RekogNizer/requirements.txt (line 3)) (0.14.2)\n",
            "Requirement already satisfied: gql==0.2.0 in /usr/local/lib/python3.6/dist-packages (from wandb->-r /content/drive/My Drive/EVA4/RekogNizer/requirements.txt (line 3)) (0.2.0)\n",
            "Requirement already satisfied: shortuuid>=0.5.0 in /usr/local/lib/python3.6/dist-packages (from wandb->-r /content/drive/My Drive/EVA4/RekogNizer/requirements.txt (line 3)) (0.5.0)\n",
            "Requirement already satisfied: python-dateutil>=2.6.1 in /usr/local/lib/python3.6/dist-packages (from wandb->-r /content/drive/My Drive/EVA4/RekogNizer/requirements.txt (line 3)) (2.6.1)\n",
            "Requirement already satisfied: psutil>=5.0.0 in /usr/local/lib/python3.6/dist-packages (from wandb->-r /content/drive/My Drive/EVA4/RekogNizer/requirements.txt (line 3)) (5.4.8)\n",
            "Requirement already satisfied: pillow>=4.1.1 in /usr/local/lib/python3.6/dist-packages (from torchvision->-r /content/drive/My Drive/EVA4/RekogNizer/requirements.txt (line 7)) (6.2.2)\n",
            "Requirement already satisfied: cycler>=0.10 in /usr/local/lib/python3.6/dist-packages (from matplotlib->-r /content/drive/My Drive/EVA4/RekogNizer/requirements.txt (line 8)) (0.10.0)\n",
            "Requirement already satisfied: pyparsing!=2.0.4,!=2.1.2,!=2.1.6,>=2.0.1 in /usr/local/lib/python3.6/dist-packages (from matplotlib->-r /content/drive/My Drive/EVA4/RekogNizer/requirements.txt (line 8)) (2.4.6)\n",
            "Requirement already satisfied: kiwisolver>=1.0.1 in /usr/local/lib/python3.6/dist-packages (from matplotlib->-r /content/drive/My Drive/EVA4/RekogNizer/requirements.txt (line 8)) (1.1.0)\n",
            "Requirement already satisfied: certifi>=2017.4.17 in /usr/local/lib/python3.6/dist-packages (from requests>=2.0.0->wandb->-r /content/drive/My Drive/EVA4/RekogNizer/requirements.txt (line 3)) (2019.11.28)\n",
            "Requirement already satisfied: chardet<3.1.0,>=3.0.2 in /usr/local/lib/python3.6/dist-packages (from requests>=2.0.0->wandb->-r /content/drive/My Drive/EVA4/RekogNizer/requirements.txt (line 3)) (3.0.4)\n",
            "Requirement already satisfied: idna<2.9,>=2.5 in /usr/local/lib/python3.6/dist-packages (from requests>=2.0.0->wandb->-r /content/drive/My Drive/EVA4/RekogNizer/requirements.txt (line 3)) (2.8)\n",
            "Requirement already satisfied: urllib3<1.25,>=1.21.1 in /usr/local/lib/python3.6/dist-packages (from requests>=2.0.0->wandb->-r /content/drive/My Drive/EVA4/RekogNizer/requirements.txt (line 3)) (1.24.3)\n",
            "Requirement already satisfied: gitdb<5,>=4.0.1 in /usr/local/lib/python3.6/dist-packages (from GitPython>=1.0.0->wandb->-r /content/drive/My Drive/EVA4/RekogNizer/requirements.txt (line 3)) (4.0.2)\n",
            "Requirement already satisfied: pathtools>=0.1.1 in /usr/local/lib/python3.6/dist-packages (from watchdog>=0.8.3->wandb->-r /content/drive/My Drive/EVA4/RekogNizer/requirements.txt (line 3)) (0.1.2)\n",
            "Requirement already satisfied: promise<3,>=2.0 in /usr/local/lib/python3.6/dist-packages (from gql==0.2.0->wandb->-r /content/drive/My Drive/EVA4/RekogNizer/requirements.txt (line 3)) (2.3)\n",
            "Requirement already satisfied: graphql-core<2,>=0.5.0 in /usr/local/lib/python3.6/dist-packages (from gql==0.2.0->wandb->-r /content/drive/My Drive/EVA4/RekogNizer/requirements.txt (line 3)) (1.1)\n",
            "Requirement already satisfied: setuptools in /usr/local/lib/python3.6/dist-packages (from kiwisolver>=1.0.1->matplotlib->-r /content/drive/My Drive/EVA4/RekogNizer/requirements.txt (line 8)) (45.2.0)\n",
            "Requirement already satisfied: smmap<4,>=3.0.1 in /usr/local/lib/python3.6/dist-packages (from gitdb<5,>=4.0.1->GitPython>=1.0.0->wandb->-r /content/drive/My Drive/EVA4/RekogNizer/requirements.txt (line 3)) (3.0.1)\n"
          ],
          "name": "stdout"
        }
      ]
    },
    {
      "cell_type": "markdown",
      "metadata": {
        "id": "meia7p02UJE8",
        "colab_type": "text"
      },
      "source": [
        "#### WANDB client login"
      ]
    },
    {
      "cell_type": "code",
      "metadata": {
        "id": "Hi9SBc2TKUF3",
        "colab_type": "code",
        "outputId": "7f63fe56-51e5-4f31-9c6f-e41586762c01",
        "colab": {
          "base_uri": "https://localhost:8080/",
          "height": 50
        }
      },
      "source": [
        "!wandb login a6f947d2d2f69e7a8c8ca0f69811fd554f27d204"
      ],
      "execution_count": 3,
      "outputs": [
        {
          "output_type": "stream",
          "text": [
            "\u001b[34m\u001b[1mwandb\u001b[0m: Appending key for api.wandb.ai to your netrc file: /root/.netrc\n",
            "\u001b[32mSuccessfully logged in to Weights & Biases!\u001b[0m\n"
          ],
          "name": "stdout"
        }
      ]
    },
    {
      "cell_type": "code",
      "metadata": {
        "id": "yFb9EtN4KdDD",
        "colab_type": "code",
        "colab": {}
      },
      "source": [
        "sys.path.append('/content/drive/My Drive/EVA4/')\n",
        "sys.path.append('/content/drive/My Drive/EVA4/RekogNizer')"
      ],
      "execution_count": 0,
      "outputs": []
    },
    {
      "cell_type": "markdown",
      "metadata": {
        "id": "tLJy4ho3L4rj",
        "colab_type": "text"
      },
      "source": [
        "train_s7_new.py currently can take JSON formatted string as input. Following parameters are configurable and are used in the model training and execution.\n",
        "```\n",
        "{\"project\": \"news5\", \n",
        " \"sched_lr_gamma\": 0.5, \n",
        " \"no_cuda\": false, \n",
        " \"dropout\": 0.1, \n",
        " \"test_batch_size\": 128, \n",
        " \"batch_size\": 128, \n",
        " \"epochs\": 45, \n",
        " \"bias\": false, \n",
        " \"lr\": 0.001, \n",
        " \"start_lr\": 0, \n",
        " \"sched_lr_step\": 1, \n",
        " \"weight_decay\": 0.0, \n",
        " \"seed\": 1, \n",
        " \"momentum\": 0.9}\n",
        "\n",
        "```\n",
        "This script will be enhanced to handle the following:\n",
        "\n",
        "\n",
        "1. Inferencing from a saved model\n",
        "2. Loading and retraining the model\n",
        "3. Displaying run results from a saved model.\n",
        "4. Samples of train/test loader data\n",
        "\n",
        "All the above functions are implemented already as APIs in the RekogNizer library.\n"
      ]
    },
    {
      "cell_type": "markdown",
      "metadata": {
        "id": "QkADiDsGUVX4",
        "colab_type": "text"
      },
      "source": [
        "Finally the training run!"
      ]
    },
    {
      "cell_type": "code",
      "metadata": {
        "id": "L2ojuODJKuUf",
        "colab_type": "code",
        "outputId": "0740697f-1263-4a0b-cb31-61515e5968aa",
        "colab": {
          "base_uri": "https://localhost:8080/",
          "height": 1000
        }
      },
      "source": [
        "!python /content/drive/My\\ Drive/EVA4/train_s7_new.py -p '{\"lr\":0.1,\"dropout\":0.13596276898345358, \"momentum\":0.9, \"epochs\":30}' "
      ],
      "execution_count": 0,
      "outputs": [
        {
          "output_type": "stream",
          "text": [
            "Setting  lr  =  0.1\n",
            "Setting  dropout  =  0.13596276898345358\n",
            "Setting  momentum  =  0.9\n",
            "Setting  epochs  =  30\n",
            "Final Hyperparameters\n",
            "             dropout : 0.13596276898345358 \n",
            "          batch_size : 128 \n",
            "     test_batch_size : 128 \n",
            "                  lr : 0.1 \n",
            "            momentum : 0.9 \n",
            "             no_cuda : False \n",
            "                seed : 1 \n",
            "              epochs : 30 \n",
            "                bias : False \n",
            "      sched_lr_gamma : 0.5 \n",
            "       sched_lr_step : 1 \n",
            "            start_lr : 0 \n",
            "        weight_decay : 0.0 \n",
            "             project : news5 \n",
            "Initializing datasets and dataloaders\n",
            "Files already downloaded and verified\n",
            "Files already downloaded and verified\n",
            "\u001b[34m\u001b[1mwandb\u001b[0m: Tracking run with wandb version 0.8.28\n",
            "\u001b[34m\u001b[1mwandb\u001b[0m: Run data is saved locally in wandb/run-20200304_201029-vtgfahbh\n",
            "\u001b[34m\u001b[1mwandb\u001b[0m: Syncing run \u001b[33mfirm-totem-770\u001b[0m\n",
            "\u001b[34m\u001b[1mwandb\u001b[0m: ⭐️ View project at \u001b[34m\u001b[4mhttps://app.wandb.ai/rajy4683/news5\u001b[0m\n",
            "\u001b[34m\u001b[1mwandb\u001b[0m: 🚀 View run at \u001b[34m\u001b[4mhttps://app.wandb.ai/rajy4683/news5/runs/vtgfahbh\u001b[0m\n",
            "\u001b[34m\u001b[1mwandb\u001b[0m: Run `wandb off` to turn off syncing.\n",
            "\n",
            "Model saved to:  /content/drive/My Drive/EVA4/model_saves/model-2344634a5a.h5\n",
            "Hyper Params:\n",
            "wandb_version: 1\n",
            "\n",
            "_wandb:\n",
            "  desc: null\n",
            "  value:\n",
            "    cli_version: 0.8.28\n",
            "    code_path: code/drive/My Drive/EVA4/train_s7_new.py\n",
            "    framework: torch\n",
            "    is_jupyter_run: false\n",
            "    python_version: 3.6.9\n",
            "batch_size:\n",
            "  desc: null\n",
            "  value: 128\n",
            "bias:\n",
            "  desc: null\n",
            "  value: false\n",
            "dropout:\n",
            "  desc: null\n",
            "  value: 0.13596276898345358\n",
            "epochs:\n",
            "  desc: null\n",
            "  value: 30\n",
            "lr:\n",
            "  desc: null\n",
            "  value: 0.1\n",
            "momentum:\n",
            "  desc: null\n",
            "  value: 0.9\n",
            "no_cuda:\n",
            "  desc: null\n",
            "  value: false\n",
            "project:\n",
            "  desc: null\n",
            "  value: news5\n",
            "run_name:\n",
            "  desc: null\n",
            "  value: 2344634a5a\n",
            "sched_lr_gamma:\n",
            "  desc: null\n",
            "  value: 0.5\n",
            "sched_lr_step:\n",
            "  desc: null\n",
            "  value: 1\n",
            "seed:\n",
            "  desc: null\n",
            "  value: 1\n",
            "start_lr:\n",
            "  desc: null\n",
            "  value: 0\n",
            "test_batch_size:\n",
            "  desc: null\n",
            "  value: 128\n",
            "weight_decay:\n",
            "  desc: null\n",
            "  value: 0.0\n",
            "\n",
            "loss=1.8485286235809326 batch_id=390: 100%|███| 391/391 [01:07<00:00,  6.48it/s]\n",
            "\n",
            "Epoch: 1 Train set: Average loss: 0.0158, Accuracy: 29.354%\n",
            "Epoch: 1 Test set: Average loss: 1.5919, Accuracy: 41.090%\n",
            "Model saved as Test Accuracy increased from  0.0  to  41.09\n",
            "loss=1.1759616136550903 batch_id=390: 100%|███| 391/391 [01:08<00:00,  6.56it/s]\n",
            "\n",
            "Epoch: 2 Train set: Average loss: 0.0111, Accuracy: 47.818%\n",
            "Epoch: 2 Test set: Average loss: 1.2777, Accuracy: 53.370%\n",
            "Model saved as Test Accuracy increased from  41.09  to  53.37\n",
            "loss=1.1473853588104248 batch_id=390: 100%|███| 391/391 [01:09<00:00,  6.47it/s]\n",
            "\n",
            "Epoch: 3 Train set: Average loss: 0.0092, Accuracy: 57.676%\n",
            "Epoch: 3 Test set: Average loss: 1.2329, Accuracy: 56.730%\n",
            "Model saved as Test Accuracy increased from  53.37  to  56.73\n",
            "loss=0.7894886136054993 batch_id=390: 100%|███| 391/391 [01:10<00:00,  5.86it/s]\n",
            "\n",
            "Epoch: 4 Train set: Average loss: 0.0076, Accuracy: 65.396%\n",
            "Epoch: 4 Test set: Average loss: 0.9489, Accuracy: 66.330%\n",
            "Model saved as Test Accuracy increased from  56.73  to  66.33\n",
            "loss=0.6923189759254456 batch_id=390: 100%|███| 391/391 [01:09<00:00,  6.39it/s]\n",
            "\n",
            "Epoch: 5 Train set: Average loss: 0.0064, Accuracy: 70.774%\n",
            "Epoch: 5 Test set: Average loss: 0.9330, Accuracy: 66.930%\n",
            "Model saved as Test Accuracy increased from  66.33  to  66.93\n",
            "loss=0.48962563276290894 batch_id=390: 100%|██| 391/391 [01:10<00:00,  6.31it/s]\n",
            "\n",
            "Epoch: 6 Train set: Average loss: 0.0055, Accuracy: 75.486%\n",
            "Epoch: 6 Test set: Average loss: 0.7896, Accuracy: 72.490%\n",
            "Model saved as Test Accuracy increased from  66.93  to  72.49\n",
            "loss=0.5796757936477661 batch_id=390: 100%|███| 391/391 [01:10<00:00,  6.34it/s]\n",
            "\n",
            "Epoch: 7 Train set: Average loss: 0.0046, Accuracy: 79.398%\n",
            "Epoch: 7 Test set: Average loss: 0.7259, Accuracy: 75.150%\n",
            "Model saved as Test Accuracy increased from  72.49  to  75.15\n",
            "loss=0.4901462197303772 batch_id=390: 100%|███| 391/391 [01:10<00:00,  6.24it/s]\n",
            "\n",
            "Epoch: 8 Train set: Average loss: 0.0038, Accuracy: 82.692%\n",
            "Epoch: 8 Test set: Average loss: 0.7018, Accuracy: 76.300%\n",
            "Model saved as Test Accuracy increased from  75.15  to  76.3\n",
            "loss=0.41471943259239197 batch_id=390: 100%|██| 391/391 [01:10<00:00,  6.34it/s]\n",
            "\n",
            "Epoch: 9 Train set: Average loss: 0.0031, Accuracy: 86.044%\n",
            "Epoch: 9 Test set: Average loss: 0.6690, Accuracy: 77.450%\n",
            "Model saved as Test Accuracy increased from  76.3  to  77.45\n",
            "loss=0.28120771050453186 batch_id=390: 100%|██| 391/391 [01:10<00:00,  6.38it/s]\n",
            "\n",
            "Epoch: 10 Train set: Average loss: 0.0024, Accuracy: 88.826%\n",
            "Epoch: 10 Test set: Average loss: 0.7084, Accuracy: 78.490%\n",
            "Model saved as Test Accuracy increased from  77.45  to  78.49\n",
            "loss=0.41479986906051636 batch_id=390: 100%|██| 391/391 [01:10<00:00,  5.97it/s]\n",
            "\n",
            "Epoch: 11 Train set: Average loss: 0.0019, Accuracy: 91.108%\n",
            "Epoch: 11 Test set: Average loss: 0.7437, Accuracy: 78.120%\n",
            "loss=0.25126856565475464 batch_id=390: 100%|██| 391/391 [01:10<00:00,  6.43it/s]\n",
            "\n",
            "Epoch: 12 Train set: Average loss: 0.0014, Accuracy: 93.494%\n",
            "Epoch: 12 Test set: Average loss: 0.8096, Accuracy: 78.300%\n",
            "loss=0.15012532472610474 batch_id=390: 100%|██| 391/391 [01:10<00:00,  6.22it/s]\n",
            "\n",
            "Epoch: 13 Train set: Average loss: 0.0010, Accuracy: 95.396%\n",
            "Epoch: 13 Test set: Average loss: 0.9955, Accuracy: 77.000%\n",
            "loss=0.10339684784412384 batch_id=390: 100%|██| 391/391 [01:10<00:00,  5.90it/s]\n",
            "\n",
            "Epoch: 14 Train set: Average loss: 0.0008, Accuracy: 96.472%\n",
            "Epoch: 14 Test set: Average loss: 0.9051, Accuracy: 78.960%\n",
            "Model saved as Test Accuracy increased from  78.49  to  78.96\n",
            "loss=0.14442507922649384 batch_id=390: 100%|██| 391/391 [01:10<00:00,  6.43it/s]\n",
            "\n",
            "Epoch: 15 Train set: Average loss: 0.0006, Accuracy: 97.348%\n",
            "Epoch: 15 Test set: Average loss: 0.9598, Accuracy: 78.760%\n",
            "loss=0.0926397293806076 batch_id=390: 100%|███| 391/391 [01:10<00:00,  6.39it/s]\n",
            "\n",
            "Epoch: 16 Train set: Average loss: 0.0004, Accuracy: 98.054%\n",
            "Epoch: 16 Test set: Average loss: 1.0053, Accuracy: 79.700%\n",
            "Model saved as Test Accuracy increased from  78.96  to  79.7\n",
            "loss=0.0198083333671093 batch_id=390: 100%|███| 391/391 [01:10<00:00,  6.39it/s]\n",
            "\n",
            "Epoch: 17 Train set: Average loss: 0.0004, Accuracy: 98.384%\n",
            "Epoch: 17 Test set: Average loss: 1.0947, Accuracy: 78.530%\n",
            "loss=0.022050220519304276 batch_id=390: 100%|█| 391/391 [01:10<00:00,  6.40it/s]\n",
            "\n",
            "Epoch: 18 Train set: Average loss: 0.0003, Accuracy: 98.830%\n",
            "Epoch: 18 Test set: Average loss: 1.0779, Accuracy: 80.040%\n",
            "Model saved as Test Accuracy increased from  79.7  to  80.04\n",
            "loss=0.02918870374560356 batch_id=390: 100%|██| 391/391 [01:10<00:00,  6.32it/s]\n",
            "\n",
            "Epoch: 19 Train set: Average loss: 0.0003, Accuracy: 98.884%\n",
            "Epoch: 19 Test set: Average loss: 1.1677, Accuracy: 79.430%\n",
            "loss=0.06695536524057388 batch_id=390: 100%|██| 391/391 [01:10<00:00,  6.44it/s]\n",
            "\n",
            "Epoch: 20 Train set: Average loss: 0.0002, Accuracy: 99.108%\n",
            "Epoch: 20 Test set: Average loss: 1.1089, Accuracy: 80.260%\n",
            "Model saved as Test Accuracy increased from  80.04  to  80.26\n",
            "loss=0.023698532953858376 batch_id=390: 100%|█| 391/391 [01:10<00:00,  6.29it/s]\n",
            "\n",
            "Epoch: 21 Train set: Average loss: 0.0002, Accuracy: 99.170%\n",
            "Epoch: 21 Test set: Average loss: 1.0993, Accuracy: 80.710%\n",
            "Model saved as Test Accuracy increased from  80.26  to  80.71\n",
            "loss=0.057961005717515945 batch_id=390: 100%|█| 391/391 [01:10<00:00,  6.01it/s]\n",
            "\n",
            "Epoch: 22 Train set: Average loss: 0.0002, Accuracy: 99.206%\n",
            "Epoch: 22 Test set: Average loss: 1.0882, Accuracy: 80.510%\n",
            "loss=0.02040811814367771 batch_id=390: 100%|██| 391/391 [01:10<00:00,  6.37it/s]\n",
            "\n",
            "Epoch: 23 Train set: Average loss: 0.0001, Accuracy: 99.484%\n",
            "Epoch: 23 Test set: Average loss: 1.2974, Accuracy: 79.590%\n",
            "loss=0.0132423285394907 batch_id=390: 100%|███| 391/391 [01:10<00:00,  5.89it/s]\n",
            "\n",
            "Epoch: 24 Train set: Average loss: 0.0001, Accuracy: 99.608%\n",
            "Epoch: 24 Test set: Average loss: 1.1684, Accuracy: 80.830%\n",
            "Model saved as Test Accuracy increased from  80.71  to  80.83\n",
            "loss=0.0048608421348035336 batch_id=390: 100%|█| 391/391 [01:10<00:00,  6.37it/s]\n",
            "\n",
            "Epoch: 25 Train set: Average loss: 0.0001, Accuracy: 99.766%\n",
            "Epoch: 25 Test set: Average loss: 1.1531, Accuracy: 81.710%\n",
            "Model saved as Test Accuracy increased from  80.83  to  81.71\n",
            "loss=0.0004131913301534951 batch_id=390: 100%|█| 391/391 [01:10<00:00,  6.32it/s]\n",
            "\n",
            "Epoch: 26 Train set: Average loss: 0.0000, Accuracy: 99.946%\n",
            "Epoch: 26 Test set: Average loss: 1.1139, Accuracy: 82.260%\n",
            "Model saved as Test Accuracy increased from  81.71  to  82.26\n",
            "loss=0.004356312565505505 batch_id=390: 100%|█| 391/391 [01:10<00:00,  6.27it/s]\n",
            "\n",
            "Epoch: 27 Train set: Average loss: 0.0000, Accuracy: 99.948%\n",
            "Epoch: 27 Test set: Average loss: 1.1635, Accuracy: 81.900%\n",
            "loss=0.018532652407884598 batch_id=390: 100%|█| 391/391 [01:10<00:00,  6.41it/s]\n",
            "\n",
            "Epoch: 28 Train set: Average loss: 0.0000, Accuracy: 99.886%\n",
            "Epoch: 28 Test set: Average loss: 1.2217, Accuracy: 81.310%\n",
            "loss=0.0003443479654379189 batch_id=390: 100%|█| 391/391 [01:10<00:00,  6.23it/s]\n",
            "\n",
            "Epoch: 29 Train set: Average loss: 0.0000, Accuracy: 99.926%\n",
            "Epoch: 29 Test set: Average loss: 1.1888, Accuracy: 82.120%\n",
            "loss=0.00017962456331588328 batch_id=390: 100%|█| 391/391 [01:10<00:00,  6.28it/s]\n",
            "\n",
            "Epoch: 30 Train set: Average loss: 0.0000, Accuracy: 99.974%\n",
            "Epoch: 30 Test set: Average loss: 1.1649, Accuracy: 82.420%\n",
            "Model saved as Test Accuracy increased from  82.26  to  82.42\n",
            "Final model save path: /content/drive/My Drive/EVA4/model_saves/model-2344634a5a.h5  best Accuracy: 82.42\n",
            "\n",
            "\u001b[34m\u001b[1mwandb\u001b[0m: Waiting for W&B process to finish, PID 2545\n",
            "\u001b[34m\u001b[1mwandb\u001b[0m: Program ended successfully.\n",
            "\u001b[34m\u001b[1mwandb\u001b[0m: Run summary:\n",
            "\u001b[34m\u001b[1mwandb\u001b[0m:                                _runtime 2236.432092189789\n",
            "\u001b[34m\u001b[1mwandb\u001b[0m:                               Test Loss 1.1648711185455323\n",
            "\u001b[34m\u001b[1mwandb\u001b[0m:                              Train Loss 1.1605238288757392e-05\n",
            "\u001b[34m\u001b[1mwandb\u001b[0m:                              _timestamp 1583354863.6641383\n",
            "\u001b[34m\u001b[1mwandb\u001b[0m:                           Test Accuracy 82.42\n",
            "\u001b[34m\u001b[1mwandb\u001b[0m:                           Learning Rate 0.1\n",
            "\u001b[34m\u001b[1mwandb\u001b[0m:                          Train Accuracy 99.974\n",
            "\u001b[34m\u001b[1mwandb\u001b[0m:                                   _step 29\n",
            "\u001b[34m\u001b[1mwandb\u001b[0m: Syncing files in wandb/run-20200304_201029-vtgfahbh:\n",
            "\u001b[34m\u001b[1mwandb\u001b[0m:   code/drive/My Drive/EVA4/train_s7_new.py\n",
            "\u001b[34m\u001b[1mwandb\u001b[0m: plus 7 W&B file(s) and 1 media file(s)\n",
            "\u001b[34m\u001b[1mwandb\u001b[0m:                                                                                \n",
            "\u001b[34m\u001b[1mwandb\u001b[0m: Synced firm-totem-770: https://app.wandb.ai/rajy4683/news5/runs/vtgfahbh\n"
          ],
          "name": "stdout"
        }
      ]
    },
    {
      "cell_type": "code",
      "metadata": {
        "id": "c9RQrJjHv2Av",
        "colab_type": "code",
        "outputId": "931df831-3196-4978-cc1a-a0b5c3f58a02",
        "colab": {
          "base_uri": "https://localhost:8080/",
          "height": 1000
        }
      },
      "source": [
        "!python /content/drive/My\\ Drive/EVA4/train_s7_new.py -p '{\"lr\":0.1,\"dropout\":0.13596276898345358, \"momentum\":0.9, \"epochs\":5}' -r \"/content/drive/My Drive/EVA4/model_saves/model-2344634a5a.h5\""
      ],
      "execution_count": 5,
      "outputs": [
        {
          "output_type": "stream",
          "text": [
            "Model will be loaded from /content/drive/My Drive/EVA4/model_saves/model-2344634a5a.h5\n",
            "Setting  lr  =  0.1\n",
            "Setting  dropout  =  0.13596276898345358\n",
            "Setting  momentum  =  0.9\n",
            "Setting  epochs  =  5\n",
            "Final Hyperparameters\n",
            "             dropout : 0.13596276898345358 \n",
            "          batch_size : 128 \n",
            "     test_batch_size : 128 \n",
            "                  lr : 0.1 \n",
            "            momentum : 0.9 \n",
            "             no_cuda : False \n",
            "                seed : 1 \n",
            "              epochs : 5 \n",
            "                bias : False \n",
            "      sched_lr_gamma : 0.5 \n",
            "       sched_lr_step : 1 \n",
            "            start_lr : 0 \n",
            "        weight_decay : 0.0 \n",
            "             project : news5 \n",
            "Initializing datasets and dataloaders\n",
            "Files already downloaded and verified\n",
            "Files already downloaded and verified\n",
            "\u001b[34m\u001b[1mwandb\u001b[0m: Tracking run with wandb version 0.8.28\n",
            "\u001b[34m\u001b[1mwandb\u001b[0m: Run data is saved locally in wandb/run-20200305_114425-gtdu9x1o\n",
            "\u001b[34m\u001b[1mwandb\u001b[0m: Syncing run \u001b[33mmild-night-774\u001b[0m\n",
            "\u001b[34m\u001b[1mwandb\u001b[0m: ⭐️ View project at \u001b[34m\u001b[4mhttps://app.wandb.ai/rajy4683/news5\u001b[0m\n",
            "\u001b[34m\u001b[1mwandb\u001b[0m: 🚀 View run at \u001b[34m\u001b[4mhttps://app.wandb.ai/rajy4683/news5/runs/gtdu9x1o\u001b[0m\n",
            "\u001b[34m\u001b[1mwandb\u001b[0m: Run `wandb off` to turn off syncing.\n",
            "\n",
            "Model saved to:  /content/drive/My Drive/EVA4/model_saves/model-29ecdbb1f0.h5\n",
            "Hyper Params:\n",
            "wandb_version: 1\n",
            "\n",
            "_wandb:\n",
            "  desc: null\n",
            "  value:\n",
            "    cli_version: 0.8.28\n",
            "    code_path: code/drive/My Drive/EVA4/train_s7_new.py\n",
            "    framework: torch\n",
            "    is_jupyter_run: false\n",
            "    python_version: 3.6.9\n",
            "batch_size:\n",
            "  desc: null\n",
            "  value: 128\n",
            "bias:\n",
            "  desc: null\n",
            "  value: false\n",
            "dropout:\n",
            "  desc: null\n",
            "  value: 0.13596276898345358\n",
            "epochs:\n",
            "  desc: null\n",
            "  value: 5\n",
            "lr:\n",
            "  desc: null\n",
            "  value: 0.1\n",
            "momentum:\n",
            "  desc: null\n",
            "  value: 0.9\n",
            "no_cuda:\n",
            "  desc: null\n",
            "  value: false\n",
            "project:\n",
            "  desc: null\n",
            "  value: news5\n",
            "run_name:\n",
            "  desc: null\n",
            "  value: 29ecdbb1f0\n",
            "sched_lr_gamma:\n",
            "  desc: null\n",
            "  value: 0.5\n",
            "sched_lr_step:\n",
            "  desc: null\n",
            "  value: 1\n",
            "seed:\n",
            "  desc: null\n",
            "  value: 1\n",
            "start_lr:\n",
            "  desc: null\n",
            "  value: 0\n",
            "test_batch_size:\n",
            "  desc: null\n",
            "  value: 128\n",
            "weight_decay:\n",
            "  desc: null\n",
            "  value: 0.0\n",
            "\n",
            "Model loaded from  /content/drive/My Drive/EVA4/model_saves/model-2344634a5a.h5  with previous accuracy: 82.42\n",
            "loss=0.00045900343684479594 batch_id=390: 100%|█| 391/391 [02:45<00:00,  2.66it/s]\n",
            "\n",
            "Epoch: 1 Train set: Average loss: 0.0000, Accuracy: 99.964%\n",
            "Epoch: 1 Test set: Average loss: 1.2082, Accuracy: 81.960%\n",
            "loss=0.000865209090989083 batch_id=390: 100%|█| 391/391 [02:45<00:00,  2.66it/s]\n",
            "\n",
            "Epoch: 2 Train set: Average loss: 0.0000, Accuracy: 99.972%\n",
            "Epoch: 2 Test set: Average loss: 1.1853, Accuracy: 82.000%\n",
            "loss=9.474754187976941e-05 batch_id=390: 100%|█| 391/391 [02:45<00:00,  2.67it/s]\n",
            "\n",
            "Epoch: 3 Train set: Average loss: 0.0000, Accuracy: 99.986%\n",
            "Epoch: 3 Test set: Average loss: 1.1998, Accuracy: 82.430%\n",
            "Model saved as Test Accuracy increased from  82.42  to  82.43\n",
            "loss=6.638765626121312e-05 batch_id=390: 100%|█| 391/391 [02:45<00:00,  2.59it/s]\n",
            "\n",
            "Epoch: 4 Train set: Average loss: 0.0000, Accuracy: 99.992%\n",
            "Epoch: 4 Test set: Average loss: 1.1933, Accuracy: 82.550%\n",
            "Model saved as Test Accuracy increased from  82.43  to  82.55\n",
            "loss=0.0001487135887145996 batch_id=390: 100%|█| 391/391 [02:45<00:00,  2.66it/s]\n",
            "\n",
            "Epoch: 5 Train set: Average loss: 0.0000, Accuracy: 99.998%\n",
            "Epoch: 5 Test set: Average loss: 1.1973, Accuracy: 82.610%\n",
            "Model saved as Test Accuracy increased from  82.55  to  82.61\n",
            "Final model save path: /content/drive/My Drive/EVA4/model_saves/model-29ecdbb1f0.h5  best Accuracy: 82.61\n",
            "\n",
            "\u001b[34m\u001b[1mwandb\u001b[0m: Waiting for W&B process to finish, PID 1158\n",
            "\u001b[34m\u001b[1mwandb\u001b[0m: Program ended successfully.\n",
            "\u001b[34m\u001b[1mwandb\u001b[0m: Run summary:\n",
            "\u001b[34m\u001b[1mwandb\u001b[0m:                               Test Loss 1.1973464626312256\n",
            "\u001b[34m\u001b[1mwandb\u001b[0m:                                   _step 4\n",
            "\u001b[34m\u001b[1mwandb\u001b[0m:                           Test Accuracy 82.61\n",
            "\u001b[34m\u001b[1mwandb\u001b[0m:                           Learning Rate 0.1\n",
            "\u001b[34m\u001b[1mwandb\u001b[0m:                                _runtime 885.7320899963379\n",
            "\u001b[34m\u001b[1mwandb\u001b[0m:                              Train Loss 1.663660928606987e-06\n",
            "\u001b[34m\u001b[1mwandb\u001b[0m:                              _timestamp 1583409549.0126712\n",
            "\u001b[34m\u001b[1mwandb\u001b[0m:                          Train Accuracy 99.998\n",
            "\u001b[34m\u001b[1mwandb\u001b[0m: Syncing files in wandb/run-20200305_114425-gtdu9x1o:\n",
            "\u001b[34m\u001b[1mwandb\u001b[0m:   code/drive/My Drive/EVA4/train_s7_new.py\n",
            "\u001b[34m\u001b[1mwandb\u001b[0m: plus 7 W&B file(s) and 1 media file(s)\n",
            "\u001b[34m\u001b[1mwandb\u001b[0m:                                                                                \n",
            "\u001b[34m\u001b[1mwandb\u001b[0m: Synced mild-night-774: https://app.wandb.ai/rajy4683/news5/runs/gtdu9x1o\n"
          ],
          "name": "stdout"
        }
      ]
    },
    {
      "cell_type": "code",
      "metadata": {
        "id": "co-iSigIVfGR",
        "colab_type": "code",
        "colab": {}
      },
      "source": [
        "from RekogNizer import traintest\n",
        "from RekogNizer import logger\n",
        "from RekogNizer import fileutils\n",
        "from RekogNizer import basemodelclass\n",
        "from RekogNizer import dataloader\n",
        "\n",
        "import pandas as pd\n",
        "import numpy as np\n",
        "import torch"
      ],
      "execution_count": 0,
      "outputs": []
    },
    {
      "cell_type": "code",
      "metadata": {
        "id": "YC4AjqUhU3mh",
        "colab_type": "code",
        "outputId": "aef0d1e5-b680-4411-e1dc-eeaf0ffba514",
        "colab": {
          "base_uri": "https://localhost:8080/",
          "height": 776
        }
      },
      "source": [
        "runs_df = logger.get_wandb_dataframes_proj(project=\"rajy4683/news5\",count=1)\n",
        "new_df = pd.DataFrame().append(runs_df)\n",
        "\n",
        "\n",
        "fileutils.plot_graphs([new_df],\n",
        "            ['Train Accuracy', 'Test Accuracy'],\n",
        "            columns=['Train Accuracy', 'Test Accuracy'],\n",
        "            xlabel=\"Epochs\",\n",
        "            ylabel=\"Accuracy\")\n",
        "\n",
        "fileutils.plot_graphs([new_df],\n",
        "            ['Train Loss', 'Test Loss'],\n",
        "            columns=['Train Loss', 'Test Loss'],\n",
        "            xlabel=\"Epochs\",\n",
        "            ylabel=\"Loss\")"
      ],
      "execution_count": 0,
      "outputs": [
        {
          "output_type": "stream",
          "text": [
            "grateful-serenity-768\n"
          ],
          "name": "stdout"
        },
        {
          "output_type": "display_data",
          "data": {
            "image/png": "[encoded data removed]",
            "text/plain": [
              "<Figure size 1080x432 with 1 Axes>"
            ]
          },
          "metadata": {
            "tags": []
          }
        },
        {
          "output_type": "display_data",
          "data": {
            "image/png": "[encoded data removed]",
            "text/plain": [
              "<Figure size 1080x432 with 1 Axes>"
            ]
          },
          "metadata": {
            "tags": []
          }
        }
      ]
    },
    {
      "cell_type": "code",
      "metadata": {
        "id": "Co8YWVekVDiD",
        "colab_type": "code",
        "outputId": "8cf9d73c-af1c-4a9c-ced0-3ab80697f7a4",
        "colab": {
          "base_uri": "https://localhost:8080/",
          "height": 195
        }
      },
      "source": [
        "%load_ext autoreload\n",
        "%autoreload 2\n",
        "from RekogNizer import traintest\n",
        "import torchvision.transforms as transforms\n",
        "import torchvision\n",
        "\n",
        "my_model = traintest.model_builder(basemodelclass.ResNet18, weights_path=\"/content/drive/My Drive/EVA4/model_saves/model-2f9faac0c7.h5\")\n",
        "class_accuracy_dict = traintest.classwise_accuracy(my_model, testloader, classes, device=torch.device(\"cpu\"))"
      ],
      "execution_count": 0,
      "outputs": [
        {
          "output_type": "error",
          "ename": "NameError",
          "evalue": "ignored",
          "traceback": [
            "\u001b[0;31m---------------------------------------------------------------------------\u001b[0m",
            "\u001b[0;31mNameError\u001b[0m                                 Traceback (most recent call last)",
            "\u001b[0;32m<ipython-input-22-8d76946513f6>\u001b[0m in \u001b[0;36m<module>\u001b[0;34m()\u001b[0m\n\u001b[1;32m      1\u001b[0m \u001b[0;32mfrom\u001b[0m \u001b[0mRekogNizer\u001b[0m \u001b[0;32mimport\u001b[0m \u001b[0mtraintest\u001b[0m\u001b[0;34m\u001b[0m\u001b[0;34m\u001b[0m\u001b[0m\n\u001b[1;32m      2\u001b[0m \u001b[0mmy_model\u001b[0m \u001b[0;34m=\u001b[0m \u001b[0mtraintest\u001b[0m\u001b[0;34m.\u001b[0m\u001b[0mmodel_builder\u001b[0m\u001b[0;34m(\u001b[0m\u001b[0mbasemodelclass\u001b[0m\u001b[0;34m.\u001b[0m\u001b[0mResNet18\u001b[0m\u001b[0;34m,\u001b[0m \u001b[0mweights_path\u001b[0m\u001b[0;34m=\u001b[0m\u001b[0;34m\"/content/drive/My Drive/EVA4/model_saves/model-2f9faac0c7.h5\"\u001b[0m\u001b[0;34m)\u001b[0m\u001b[0;34m\u001b[0m\u001b[0;34m\u001b[0m\u001b[0m\n\u001b[0;32m----> 3\u001b[0;31m \u001b[0mclass_accuracy_dict\u001b[0m \u001b[0;34m=\u001b[0m \u001b[0mtraintest\u001b[0m\u001b[0;34m.\u001b[0m\u001b[0mclasswise_accuracy\u001b[0m\u001b[0;34m(\u001b[0m\u001b[0mmy_model\u001b[0m\u001b[0;34m,\u001b[0m \u001b[0mtestloader\u001b[0m\u001b[0;34m,\u001b[0m \u001b[0mclasses\u001b[0m\u001b[0;34m,\u001b[0m \u001b[0mdevice\u001b[0m\u001b[0;34m=\u001b[0m\u001b[0mtorch\u001b[0m\u001b[0;34m.\u001b[0m\u001b[0mdevice\u001b[0m\u001b[0;34m(\u001b[0m\u001b[0;34m\"cpu\"\u001b[0m\u001b[0;34m)\u001b[0m\u001b[0;34m)\u001b[0m\u001b[0;34m\u001b[0m\u001b[0;34m\u001b[0m\u001b[0m\n\u001b[0m",
            "\u001b[0;31mNameError\u001b[0m: name 'testloader' is not defined"
          ]
        }
      ]
    },
    {
      "cell_type": "code",
      "metadata": {
        "id": "lbctloPgVlQ_",
        "colab_type": "code",
        "outputId": "669d5dec-424e-435d-9aed-3844f8786bdc",
        "colab": {
          "base_uri": "https://localhost:8080/",
          "height": 282
        }
      },
      "source": [
        "%matplotlib inline\n",
        "import matplotlib.pyplot as plt\n",
        "\n",
        "plt.bar([key for key in class_accuracy_dict.keys()],[val for val in class_accuracy_dict.values()])"
      ],
      "execution_count": 0,
      "outputs": [
        {
          "output_type": "execute_result",
          "data": {
            "text/plain": [
              "<BarContainer object of 10 artists>"
            ]
          },
          "metadata": {
            "tags": []
          },
          "execution_count": 24
        },
        {
          "output_type": "display_data",
          "data": {
            "image/png": "[encoded data removed]",
            "text/plain": [
              "<Figure size 432x288 with 1 Axes>"
            ]
          },
          "metadata": {
            "tags": []
          }
        }
      ]
    },
    {
      "cell_type": "code",
      "metadata": {
        "id": "oDR8xqK5W2-u",
        "colab_type": "code",
        "outputId": "6836d2e0-8c11-4bda-c3a4-05e5b569d575",
        "colab": {
          "base_uri": "https://localhost:8080/",
          "height": 924
        }
      },
      "source": [
        "from torchsummary import summary\n",
        "device = torch.device(\"cuda\")\n",
        "summary(my_model.to(device),input_size=(3, 32, 32))"
      ],
      "execution_count": 0,
      "outputs": [
        {
          "output_type": "stream",
          "text": [
            "----------------------------------------------------------------\n",
            "        Layer (type)               Output Shape         Param #\n",
            "================================================================\n",
            "            Conv2d-1           [-1, 32, 32, 32]             864\n",
            "       BatchNorm2d-2           [-1, 32, 32, 32]              64\n",
            "              ReLU-3           [-1, 32, 32, 32]               0\n",
            "           Dropout-4           [-1, 32, 32, 32]               0\n",
            "            Conv2d-5           [-1, 32, 32, 32]             288\n",
            "            Conv2d-6           [-1, 32, 32, 32]           1,024\n",
            "       BatchNorm2d-7           [-1, 32, 32, 32]              64\n",
            "              ReLU-8           [-1, 32, 32, 32]               0\n",
            "         MaxPool2d-9           [-1, 32, 16, 16]               0\n",
            "          Dropout-10           [-1, 32, 16, 16]               0\n",
            "           Conv2d-11           [-1, 64, 16, 16]          18,432\n",
            "      BatchNorm2d-12           [-1, 64, 16, 16]             128\n",
            "             ReLU-13           [-1, 64, 16, 16]               0\n",
            "          Dropout-14           [-1, 64, 16, 16]               0\n",
            "           Conv2d-15           [-1, 64, 16, 16]             576\n",
            "           Conv2d-16           [-1, 64, 16, 16]           4,096\n",
            "      BatchNorm2d-17           [-1, 64, 16, 16]             128\n",
            "             ReLU-18           [-1, 64, 16, 16]               0\n",
            "        MaxPool2d-19             [-1, 64, 8, 8]               0\n",
            "          Dropout-20             [-1, 64, 8, 8]               0\n",
            "           Conv2d-21            [-1, 128, 6, 6]          73,728\n",
            "      BatchNorm2d-22            [-1, 128, 6, 6]             256\n",
            "             ReLU-23            [-1, 128, 6, 6]               0\n",
            "          Dropout-24            [-1, 128, 6, 6]               0\n",
            "           Conv2d-25            [-1, 128, 4, 4]           1,152\n",
            "           Conv2d-26            [-1, 128, 4, 4]          16,384\n",
            "      BatchNorm2d-27            [-1, 128, 4, 4]             256\n",
            "             ReLU-28            [-1, 128, 4, 4]               0\n",
            "        MaxPool2d-29            [-1, 128, 2, 2]               0\n",
            "          Dropout-30            [-1, 128, 2, 2]               0\n",
            "           Conv2d-31            [-1, 256, 2, 2]         294,912\n",
            "      BatchNorm2d-32            [-1, 256, 2, 2]             512\n",
            "             ReLU-33            [-1, 256, 2, 2]               0\n",
            "          Dropout-34            [-1, 256, 2, 2]               0\n",
            "           Conv2d-35            [-1, 256, 2, 2]          18,432\n",
            "           Conv2d-36            [-1, 256, 2, 2]          65,536\n",
            "      BatchNorm2d-37            [-1, 256, 2, 2]             512\n",
            "             ReLU-38            [-1, 256, 2, 2]               0\n",
            "          Dropout-39            [-1, 256, 2, 2]               0\n",
            "AdaptiveAvgPool2d-40            [-1, 256, 1, 1]               0\n",
            "           Conv2d-41             [-1, 10, 1, 1]           2,560\n",
            "================================================================\n",
            "Total params: 499,904\n",
            "Trainable params: 499,904\n",
            "Non-trainable params: 0\n",
            "----------------------------------------------------------------\n",
            "Input size (MB): 0.01\n",
            "Forward/backward pass size (MB): 3.47\n",
            "Params size (MB): 1.91\n",
            "Estimated Total Size (MB): 5.39\n",
            "----------------------------------------------------------------\n"
          ],
          "name": "stdout"
        }
      ]
    },
    {
      "cell_type": "code",
      "metadata": {
        "id": "p1o6JGs9XFUZ",
        "colab_type": "code",
        "colab": {}
      },
      "source": [
        ""
      ],
      "execution_count": 0,
      "outputs": []
    }
  ]
}