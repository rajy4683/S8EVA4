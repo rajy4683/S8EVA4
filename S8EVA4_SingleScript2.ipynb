{
  "nbformat": 4,
  "nbformat_minor": 0,
  "metadata": {
    "colab": {
      "name": "S8EVA4_SingleScript2.ipynb",
      "provenance": [],
      "collapsed_sections": [],
      "include_colab_link": true
    },
    "kernelspec": {
      "name": "python3",
      "display_name": "Python 3"
    },
    "accelerator": "GPU"
  },
  "cells": [
    {
      "cell_type": "markdown",
      "metadata": {
        "id": "view-in-github",
        "colab_type": "text"
      },
      "source": [
        "<a href=\"https://colab.research.google.com/github/rajy4683/S8EVA4/blob/master/S8EVA4_SingleScript2.ipynb\" target=\"_parent\"><img src=\"https://colab.research.google.com/assets/colab-badge.svg\" alt=\"Open In Colab\"/></a>"
      ]
    },
    {
      "cell_type": "code",
      "metadata": {
        "id": "TkeUIDcSJXUE",
        "colab_type": "code",
        "outputId": "c05b5b2a-5e16-4de7-ca89-528122bb78d6",
        "colab": {
          "base_uri": "https://localhost:8080/",
          "height": 121
        }
      },
      "source": [
        "from google.colab import drive\n",
        "drive.mount('/content/drive')\n",
        "import sys"
      ],
      "execution_count": 1,
      "outputs": [
        {
          "output_type": "stream",
          "text": [
            "Go to this URL in a browser: https://accounts.google.com/o/oauth2/auth?client_id=947318989803-6bn6qk8qdgf4n4g3pfee6491hc0brc4i.apps.googleusercontent.com&redirect_uri=urn%3aietf%3awg%3aoauth%3a2.0%3aoob&response_type=code&scope=email%20https%3a%2f%2fwww.googleapis.com%2fauth%2fdocs.test%20https%3a%2f%2fwww.googleapis.com%2fauth%2fdrive%20https%3a%2f%2fwww.googleapis.com%2fauth%2fdrive.photos.readonly%20https%3a%2f%2fwww.googleapis.com%2fauth%2fpeopleapi.readonly\n",
            "\n",
            "Enter your authorization code:\n",
            "··········\n",
            "Mounted at /content/drive\n"
          ],
          "name": "stdout"
        }
      ]
    },
    {
      "cell_type": "markdown",
      "metadata": {
        "id": "gQc6tVsEMKsk",
        "colab_type": "text"
      },
      "source": [
        "\n",
        "### **[RekogNizer library](https://github.com/rajy4683/RekogNizer.git) contains the following files:**\n",
        "```\n",
        "1. basemodelclass.py:   Contains core model definitions. \n",
        "2. fileutils.py:        Contains utility functions for model_name_generation, plotting functions \n",
        "3. dataloader.py:       Contains dataloaders for both training and test data\n",
        "4. traintest.py:        Contains core training, test and model execution flow routines. \n",
        "5. logger.py:           Contains functions to handle WANDB integration\n",
        "6. hyperparams.py:      Contains values of default hyperparameters alongwith getter and setter functions   \n",
        "7. train_s7_new.py:     Main wrapper script or point of entry. It parses hyperparameters as arguments\n",
        "8. requirements.txt:    Specific libraries that need to be available in the environment\n",
        "```\n",
        "\n",
        "\n",
        "\n",
        "\n",
        "\n",
        "\n"
      ]
    },
    {
      "cell_type": "markdown",
      "metadata": {
        "id": "p5sd4efFT2AF",
        "colab_type": "text"
      },
      "source": [
        "#### Downloading and installing dependencies from the GitHub link:\n"
      ]
    },
    {
      "cell_type": "code",
      "metadata": {
        "id": "-u1pUWK8PGHF",
        "colab_type": "code",
        "colab": {}
      },
      "source": [
        "!git clone https://github.com/rajy4683/RekogNizer.git /content/drive/My\\ Drive/EVA4/RekogNizer"
      ],
      "execution_count": 0,
      "outputs": []
    },
    {
      "cell_type": "code",
      "metadata": {
        "id": "M5CIVlNHJeJI",
        "colab_type": "code",
        "outputId": "092e5d5b-e6c3-4c91-e191-34bcdea7bcd5",
        "colab": {
          "base_uri": "https://localhost:8080/",
          "height": 642
        }
      },
      "source": [
        "!pip install -r /content/drive/My\\ Drive/EVA4/RekogNizer/requirements.txt"
      ],
      "execution_count": 5,
      "outputs": [
        {
          "output_type": "stream",
          "text": [
            "Requirement already satisfied: pytorch-ignite in /usr/local/lib/python3.6/dist-packages (from -r /content/drive/My Drive/EVA4/RekogNizer/requirements.txt (line 1)) (0.3.0)\n",
            "Requirement already satisfied: torchsummary in /usr/local/lib/python3.6/dist-packages (from -r /content/drive/My Drive/EVA4/RekogNizer/requirements.txt (line 2)) (1.5.1)\n",
            "Requirement already satisfied: wandb in /usr/local/lib/python3.6/dist-packages (from -r /content/drive/My Drive/EVA4/RekogNizer/requirements.txt (line 3)) (0.8.29)\n",
            "Requirement already satisfied: numpy in /usr/local/lib/python3.6/dist-packages (from -r /content/drive/My Drive/EVA4/RekogNizer/requirements.txt (line 5)) (1.17.5)\n",
            "Requirement already satisfied: torch in /usr/local/lib/python3.6/dist-packages (from -r /content/drive/My Drive/EVA4/RekogNizer/requirements.txt (line 6)) (1.4.0)\n",
            "Requirement already satisfied: torchvision in /usr/local/lib/python3.6/dist-packages (from -r /content/drive/My Drive/EVA4/RekogNizer/requirements.txt (line 7)) (0.5.0)\n",
            "Requirement already satisfied: matplotlib in /usr/local/lib/python3.6/dist-packages (from -r /content/drive/My Drive/EVA4/RekogNizer/requirements.txt (line 8)) (3.1.3)\n",
            "Requirement already satisfied: shortuuid>=0.5.0 in /usr/local/lib/python3.6/dist-packages (from wandb->-r /content/drive/My Drive/EVA4/RekogNizer/requirements.txt (line 3)) (0.5.1)\n",
            "Requirement already satisfied: watchdog>=0.8.3 in /usr/local/lib/python3.6/dist-packages (from wandb->-r /content/drive/My Drive/EVA4/RekogNizer/requirements.txt (line 3)) (0.10.2)\n",
            "Requirement already satisfied: requests>=2.0.0 in /usr/local/lib/python3.6/dist-packages (from wandb->-r /content/drive/My Drive/EVA4/RekogNizer/requirements.txt (line 3)) (2.21.0)\n",
            "Requirement already satisfied: PyYAML>=3.10 in /usr/local/lib/python3.6/dist-packages (from wandb->-r /content/drive/My Drive/EVA4/RekogNizer/requirements.txt (line 3)) (3.13)\n",
            "Requirement already satisfied: subprocess32>=3.5.3 in /usr/local/lib/python3.6/dist-packages (from wandb->-r /content/drive/My Drive/EVA4/RekogNizer/requirements.txt (line 3)) (3.5.4)\n",
            "Requirement already satisfied: six>=1.10.0 in /usr/local/lib/python3.6/dist-packages (from wandb->-r /content/drive/My Drive/EVA4/RekogNizer/requirements.txt (line 3)) (1.12.0)\n",
            "Requirement already satisfied: configparser>=3.8.1 in /usr/local/lib/python3.6/dist-packages (from wandb->-r /content/drive/My Drive/EVA4/RekogNizer/requirements.txt (line 3)) (4.0.2)\n",
            "Requirement already satisfied: docker-pycreds>=0.4.0 in /usr/local/lib/python3.6/dist-packages (from wandb->-r /content/drive/My Drive/EVA4/RekogNizer/requirements.txt (line 3)) (0.4.0)\n",
            "Requirement already satisfied: python-dateutil>=2.6.1 in /usr/local/lib/python3.6/dist-packages (from wandb->-r /content/drive/My Drive/EVA4/RekogNizer/requirements.txt (line 3)) (2.6.1)\n",
            "Requirement already satisfied: GitPython>=1.0.0 in /usr/local/lib/python3.6/dist-packages (from wandb->-r /content/drive/My Drive/EVA4/RekogNizer/requirements.txt (line 3)) (3.1.0)\n",
            "Requirement already satisfied: Click>=7.0 in /usr/local/lib/python3.6/dist-packages (from wandb->-r /content/drive/My Drive/EVA4/RekogNizer/requirements.txt (line 3)) (7.0)\n",
            "Requirement already satisfied: psutil>=5.0.0 in /usr/local/lib/python3.6/dist-packages (from wandb->-r /content/drive/My Drive/EVA4/RekogNizer/requirements.txt (line 3)) (5.4.8)\n",
            "Requirement already satisfied: sentry-sdk>=0.4.0 in /usr/local/lib/python3.6/dist-packages (from wandb->-r /content/drive/My Drive/EVA4/RekogNizer/requirements.txt (line 3)) (0.14.2)\n",
            "Requirement already satisfied: gql==0.2.0 in /usr/local/lib/python3.6/dist-packages (from wandb->-r /content/drive/My Drive/EVA4/RekogNizer/requirements.txt (line 3)) (0.2.0)\n",
            "Requirement already satisfied: nvidia-ml-py3>=7.352.0 in /usr/local/lib/python3.6/dist-packages (from wandb->-r /content/drive/My Drive/EVA4/RekogNizer/requirements.txt (line 3)) (7.352.0)\n",
            "Requirement already satisfied: pillow>=4.1.1 in /usr/local/lib/python3.6/dist-packages (from torchvision->-r /content/drive/My Drive/EVA4/RekogNizer/requirements.txt (line 7)) (6.2.2)\n",
            "Requirement already satisfied: kiwisolver>=1.0.1 in /usr/local/lib/python3.6/dist-packages (from matplotlib->-r /content/drive/My Drive/EVA4/RekogNizer/requirements.txt (line 8)) (1.1.0)\n",
            "Requirement already satisfied: pyparsing!=2.0.4,!=2.1.2,!=2.1.6,>=2.0.1 in /usr/local/lib/python3.6/dist-packages (from matplotlib->-r /content/drive/My Drive/EVA4/RekogNizer/requirements.txt (line 8)) (2.4.6)\n",
            "Requirement already satisfied: cycler>=0.10 in /usr/local/lib/python3.6/dist-packages (from matplotlib->-r /content/drive/My Drive/EVA4/RekogNizer/requirements.txt (line 8)) (0.10.0)\n",
            "Requirement already satisfied: pathtools>=0.1.1 in /usr/local/lib/python3.6/dist-packages (from watchdog>=0.8.3->wandb->-r /content/drive/My Drive/EVA4/RekogNizer/requirements.txt (line 3)) (0.1.2)\n",
            "Requirement already satisfied: idna<2.9,>=2.5 in /usr/local/lib/python3.6/dist-packages (from requests>=2.0.0->wandb->-r /content/drive/My Drive/EVA4/RekogNizer/requirements.txt (line 3)) (2.8)\n",
            "Requirement already satisfied: chardet<3.1.0,>=3.0.2 in /usr/local/lib/python3.6/dist-packages (from requests>=2.0.0->wandb->-r /content/drive/My Drive/EVA4/RekogNizer/requirements.txt (line 3)) (3.0.4)\n",
            "Requirement already satisfied: urllib3<1.25,>=1.21.1 in /usr/local/lib/python3.6/dist-packages (from requests>=2.0.0->wandb->-r /content/drive/My Drive/EVA4/RekogNizer/requirements.txt (line 3)) (1.24.3)\n",
            "Requirement already satisfied: certifi>=2017.4.17 in /usr/local/lib/python3.6/dist-packages (from requests>=2.0.0->wandb->-r /content/drive/My Drive/EVA4/RekogNizer/requirements.txt (line 3)) (2019.11.28)\n",
            "Requirement already satisfied: gitdb<5,>=4.0.1 in /usr/local/lib/python3.6/dist-packages (from GitPython>=1.0.0->wandb->-r /content/drive/My Drive/EVA4/RekogNizer/requirements.txt (line 3)) (4.0.2)\n",
            "Requirement already satisfied: promise<3,>=2.0 in /usr/local/lib/python3.6/dist-packages (from gql==0.2.0->wandb->-r /content/drive/My Drive/EVA4/RekogNizer/requirements.txt (line 3)) (2.3)\n",
            "Requirement already satisfied: graphql-core<2,>=0.5.0 in /usr/local/lib/python3.6/dist-packages (from gql==0.2.0->wandb->-r /content/drive/My Drive/EVA4/RekogNizer/requirements.txt (line 3)) (1.1)\n",
            "Requirement already satisfied: setuptools in /usr/local/lib/python3.6/dist-packages (from kiwisolver>=1.0.1->matplotlib->-r /content/drive/My Drive/EVA4/RekogNizer/requirements.txt (line 8)) (45.2.0)\n",
            "Requirement already satisfied: smmap<4,>=3.0.1 in /usr/local/lib/python3.6/dist-packages (from gitdb<5,>=4.0.1->GitPython>=1.0.0->wandb->-r /content/drive/My Drive/EVA4/RekogNizer/requirements.txt (line 3)) (3.0.1)\n"
          ],
          "name": "stdout"
        }
      ]
    },
    {
      "cell_type": "markdown",
      "metadata": {
        "id": "meia7p02UJE8",
        "colab_type": "text"
      },
      "source": [
        "#### WANDB client login"
      ]
    },
    {
      "cell_type": "code",
      "metadata": {
        "id": "Hi9SBc2TKUF3",
        "colab_type": "code",
        "outputId": "99d1fca7-0dab-4208-efb8-5c066d1a87b9",
        "colab": {
          "base_uri": "https://localhost:8080/",
          "height": 50
        }
      },
      "source": [
        "!wandb login a6f947d2d2f69e7a8c8ca0f69811fd554f27d204"
      ],
      "execution_count": 6,
      "outputs": [
        {
          "output_type": "stream",
          "text": [
            "\u001b[34m\u001b[1mwandb\u001b[0m: Appending key for api.wandb.ai to your netrc file: /root/.netrc\n",
            "\u001b[32mSuccessfully logged in to Weights & Biases!\u001b[0m\n"
          ],
          "name": "stdout"
        }
      ]
    },
    {
      "cell_type": "code",
      "metadata": {
        "id": "yFb9EtN4KdDD",
        "colab_type": "code",
        "colab": {}
      },
      "source": [
        "sys.path.append('/content/drive/My Drive/EVA4/')\n",
        "sys.path.append('/content/drive/My Drive/EVA4/RekogNizer')"
      ],
      "execution_count": 0,
      "outputs": []
    },
    {
      "cell_type": "markdown",
      "metadata": {
        "id": "tLJy4ho3L4rj",
        "colab_type": "text"
      },
      "source": [
        "train_s7_new.py currently can take JSON formatted string as input. Following parameters are configurable and are used in the model training and execution.\n",
        "```\n",
        "{\"project\": \"news5\", \n",
        " \"sched_lr_gamma\": 0.5, \n",
        " \"no_cuda\": false, \n",
        " \"dropout\": 0.1, \n",
        " \"test_batch_size\": 128, \n",
        " \"batch_size\": 128, \n",
        " \"epochs\": 45, \n",
        " \"bias\": false, \n",
        " \"lr\": 0.001, \n",
        " \"start_lr\": 0, \n",
        " \"sched_lr_step\": 1, \n",
        " \"weight_decay\": 0.0, \n",
        " \"seed\": 1, \n",
        " \"momentum\": 0.9}\n",
        "\n",
        "```\n",
        "This script will be enhanced to handle the following:\n",
        "\n",
        "\n",
        "1. Inferencing from a saved model\n",
        "2. Loading and retraining the model\n",
        "3. Displaying run results from a saved model.\n",
        "4. Samples of train/test loader data\n",
        "\n",
        "All the above functions are implemented already as APIs in the RekogNizer library.\n"
      ]
    },
    {
      "cell_type": "markdown",
      "metadata": {
        "id": "QkADiDsGUVX4",
        "colab_type": "text"
      },
      "source": [
        "Finally the training run!"
      ]
    },
    {
      "cell_type": "code",
      "metadata": {
        "id": "Afy_hi6xmVnE",
        "colab_type": "code",
        "colab": {
          "base_uri": "https://localhost:8080/",
          "height": 1000
        },
        "outputId": "6568b57a-1c31-463e-bed2-5b2cb8525878"
      },
      "source": [
        "!python /content/drive/My\\ Drive/EVA4/RekogNizer/train_s8_new.py -p '{\"lr\":0.1,\"dropout\":0.1, \"momentum\":0.9, \"epochs\":50, \"start_lr\":30, \"sched_lr_step\":5,\"sched_lr_gamma\":0.1 }'"
      ],
      "execution_count": 9,
      "outputs": [
        {
          "output_type": "stream",
          "text": [
            "Setting  lr  =  0.1\n",
            "Setting  dropout  =  0.1\n",
            "Setting  momentum  =  0.9\n",
            "Setting  epochs  =  50\n",
            "Setting  start_lr  =  30\n",
            "Setting  sched_lr_step  =  5\n",
            "Setting  sched_lr_gamma  =  0.1\n",
            "Final Hyperparameters\n",
            "             dropout : 0.1 \n",
            "          batch_size : 128 \n",
            "     test_batch_size : 128 \n",
            "                  lr : 0.1 \n",
            "            momentum : 0.9 \n",
            "             no_cuda : False \n",
            "                seed : 1 \n",
            "              epochs : 50 \n",
            "                bias : False \n",
            "      sched_lr_gamma : 0.1 \n",
            "       sched_lr_step : 5 \n",
            "            start_lr : 30 \n",
            "        weight_decay : 0.0 \n",
            "             project : news5 \n",
            "Initializing datasets and dataloaders\n",
            "Files already downloaded and verified\n",
            "Files already downloaded and verified\n",
            "\u001b[34m\u001b[1mwandb\u001b[0m: Tracking run with wandb version 0.8.29\n",
            "\u001b[34m\u001b[1mwandb\u001b[0m: Run data is saved locally in wandb/run-20200306_065754-sf2ld5bx\n",
            "\u001b[34m\u001b[1mwandb\u001b[0m: Syncing run \u001b[33mdulcet-darkness-787\u001b[0m\n",
            "\u001b[34m\u001b[1mwandb\u001b[0m: ⭐️ View project at \u001b[34m\u001b[4mhttps://app.wandb.ai/rajy4683/news5\u001b[0m\n",
            "\u001b[34m\u001b[1mwandb\u001b[0m: 🚀 View run at \u001b[34m\u001b[4mhttps://app.wandb.ai/rajy4683/news5/runs/sf2ld5bx\u001b[0m\n",
            "\u001b[34m\u001b[1mwandb\u001b[0m: Run `wandb off` to turn off syncing.\n",
            "\n",
            "Model saved to:  /content/drive/My Drive/EVA4/model_saves/model-ddf45e38f9.h5\n",
            "Hyper Params:\n",
            "wandb_version: 1\n",
            "\n",
            "_wandb:\n",
            "  desc: null\n",
            "  value:\n",
            "    cli_version: 0.8.29\n",
            "    code_path: code/drive/My Drive/EVA4/RekogNizer/train_s8_new.py\n",
            "    framework: torch\n",
            "    is_jupyter_run: false\n",
            "    python_version: 3.6.9\n",
            "batch_size:\n",
            "  desc: null\n",
            "  value: 128\n",
            "bias:\n",
            "  desc: null\n",
            "  value: false\n",
            "dropout:\n",
            "  desc: null\n",
            "  value: 0.1\n",
            "epochs:\n",
            "  desc: null\n",
            "  value: 50\n",
            "lr:\n",
            "  desc: null\n",
            "  value: 0.1\n",
            "momentum:\n",
            "  desc: null\n",
            "  value: 0.9\n",
            "no_cuda:\n",
            "  desc: null\n",
            "  value: false\n",
            "project:\n",
            "  desc: null\n",
            "  value: news5\n",
            "run_name:\n",
            "  desc: null\n",
            "  value: ddf45e38f9\n",
            "sched_lr_gamma:\n",
            "  desc: null\n",
            "  value: 0.1\n",
            "sched_lr_step:\n",
            "  desc: null\n",
            "  value: 5\n",
            "seed:\n",
            "  desc: null\n",
            "  value: 1\n",
            "start_lr:\n",
            "  desc: null\n",
            "  value: 30\n",
            "test_batch_size:\n",
            "  desc: null\n",
            "  value: 128\n",
            "weight_decay:\n",
            "  desc: null\n",
            "  value: 0.0\n",
            "\n",
            "----------------------------------------------------------------\n",
            "        Layer (type)               Output Shape         Param #\n",
            "================================================================\n",
            "            Conv2d-1           [-1, 64, 32, 32]           1,728\n",
            "       BatchNorm2d-2           [-1, 64, 32, 32]             128\n",
            "            Conv2d-3           [-1, 64, 32, 32]          36,864\n",
            "       BatchNorm2d-4           [-1, 64, 32, 32]             128\n",
            "           Dropout-5           [-1, 64, 32, 32]               0\n",
            "            Conv2d-6           [-1, 64, 32, 32]          36,864\n",
            "       BatchNorm2d-7           [-1, 64, 32, 32]             128\n",
            "           Dropout-8           [-1, 64, 32, 32]               0\n",
            "        BasicBlock-9           [-1, 64, 32, 32]               0\n",
            "           Conv2d-10           [-1, 64, 32, 32]          36,864\n",
            "      BatchNorm2d-11           [-1, 64, 32, 32]             128\n",
            "          Dropout-12           [-1, 64, 32, 32]               0\n",
            "           Conv2d-13           [-1, 64, 32, 32]          36,864\n",
            "      BatchNorm2d-14           [-1, 64, 32, 32]             128\n",
            "          Dropout-15           [-1, 64, 32, 32]               0\n",
            "       BasicBlock-16           [-1, 64, 32, 32]               0\n",
            "           Conv2d-17          [-1, 128, 16, 16]          73,728\n",
            "      BatchNorm2d-18          [-1, 128, 16, 16]             256\n",
            "          Dropout-19          [-1, 128, 16, 16]               0\n",
            "           Conv2d-20          [-1, 128, 16, 16]         147,456\n",
            "      BatchNorm2d-21          [-1, 128, 16, 16]             256\n",
            "          Dropout-22          [-1, 128, 16, 16]               0\n",
            "           Conv2d-23          [-1, 128, 16, 16]           8,192\n",
            "      BatchNorm2d-24          [-1, 128, 16, 16]             256\n",
            "          Dropout-25          [-1, 128, 16, 16]               0\n",
            "       BasicBlock-26          [-1, 128, 16, 16]               0\n",
            "           Conv2d-27          [-1, 128, 16, 16]         147,456\n",
            "      BatchNorm2d-28          [-1, 128, 16, 16]             256\n",
            "          Dropout-29          [-1, 128, 16, 16]               0\n",
            "           Conv2d-30          [-1, 128, 16, 16]         147,456\n",
            "      BatchNorm2d-31          [-1, 128, 16, 16]             256\n",
            "          Dropout-32          [-1, 128, 16, 16]               0\n",
            "       BasicBlock-33          [-1, 128, 16, 16]               0\n",
            "           Conv2d-34            [-1, 256, 8, 8]         294,912\n",
            "      BatchNorm2d-35            [-1, 256, 8, 8]             512\n",
            "          Dropout-36            [-1, 256, 8, 8]               0\n",
            "           Conv2d-37            [-1, 256, 8, 8]         589,824\n",
            "      BatchNorm2d-38            [-1, 256, 8, 8]             512\n",
            "          Dropout-39            [-1, 256, 8, 8]               0\n",
            "           Conv2d-40            [-1, 256, 8, 8]          32,768\n",
            "      BatchNorm2d-41            [-1, 256, 8, 8]             512\n",
            "          Dropout-42            [-1, 256, 8, 8]               0\n",
            "       BasicBlock-43            [-1, 256, 8, 8]               0\n",
            "           Conv2d-44            [-1, 256, 8, 8]         589,824\n",
            "      BatchNorm2d-45            [-1, 256, 8, 8]             512\n",
            "          Dropout-46            [-1, 256, 8, 8]               0\n",
            "           Conv2d-47            [-1, 256, 8, 8]         589,824\n",
            "      BatchNorm2d-48            [-1, 256, 8, 8]             512\n",
            "          Dropout-49            [-1, 256, 8, 8]               0\n",
            "       BasicBlock-50            [-1, 256, 8, 8]               0\n",
            "           Conv2d-51            [-1, 512, 4, 4]       1,179,648\n",
            "      BatchNorm2d-52            [-1, 512, 4, 4]           1,024\n",
            "          Dropout-53            [-1, 512, 4, 4]               0\n",
            "           Conv2d-54            [-1, 512, 4, 4]       2,359,296\n",
            "      BatchNorm2d-55            [-1, 512, 4, 4]           1,024\n",
            "          Dropout-56            [-1, 512, 4, 4]               0\n",
            "           Conv2d-57            [-1, 512, 4, 4]         131,072\n",
            "      BatchNorm2d-58            [-1, 512, 4, 4]           1,024\n",
            "          Dropout-59            [-1, 512, 4, 4]               0\n",
            "       BasicBlock-60            [-1, 512, 4, 4]               0\n",
            "           Conv2d-61            [-1, 512, 4, 4]       2,359,296\n",
            "      BatchNorm2d-62            [-1, 512, 4, 4]           1,024\n",
            "          Dropout-63            [-1, 512, 4, 4]               0\n",
            "           Conv2d-64            [-1, 512, 4, 4]       2,359,296\n",
            "      BatchNorm2d-65            [-1, 512, 4, 4]           1,024\n",
            "          Dropout-66            [-1, 512, 4, 4]               0\n",
            "       BasicBlock-67            [-1, 512, 4, 4]               0\n",
            "           Linear-68                   [-1, 10]           5,130\n",
            "================================================================\n",
            "Total params: 11,173,962\n",
            "Trainable params: 11,173,962\n",
            "Non-trainable params: 0\n",
            "----------------------------------------------------------------\n",
            "Input size (MB): 0.01\n",
            "Forward/backward pass size (MB): 15.44\n",
            "Params size (MB): 42.63\n",
            "Estimated Total Size (MB): 58.07\n",
            "----------------------------------------------------------------\n",
            "loss=1.5110499858856201 batch_id=390: 100%|███| 391/391 [01:11<00:00,  6.22it/s]\n",
            "\n",
            "Epoch: 1 Train set: Average loss: 0.0149, Accuracy: 30.668%\n",
            "Epoch: 1 Test set: Average loss: 1.5486, Accuracy: 42.270%\n",
            "Model saved as Test Accuracy increased from  0.0  to  42.27\n",
            "loss=1.2312531471252441 batch_id=390: 100%|███| 391/391 [01:11<00:00,  6.22it/s]\n",
            "\n",
            "Epoch: 2 Train set: Average loss: 0.0114, Accuracy: 46.520%\n",
            "Epoch: 2 Test set: Average loss: 1.3911, Accuracy: 49.420%\n",
            "Model saved as Test Accuracy increased from  42.27  to  49.42\n",
            "loss=1.160500168800354 batch_id=390: 100%|████| 391/391 [01:11<00:00,  6.20it/s]\n",
            "\n",
            "Epoch: 3 Train set: Average loss: 0.0094, Accuracy: 56.378%\n",
            "Epoch: 3 Test set: Average loss: 1.1041, Accuracy: 60.940%\n",
            "Model saved as Test Accuracy increased from  49.42  to  60.94\n",
            "loss=0.9643887281417847 batch_id=390: 100%|███| 391/391 [01:11<00:00,  5.62it/s]\n",
            "\n",
            "Epoch: 4 Train set: Average loss: 0.0078, Accuracy: 64.278%\n",
            "Epoch: 4 Test set: Average loss: 0.9159, Accuracy: 68.000%\n",
            "Model saved as Test Accuracy increased from  60.94  to  68.0\n",
            "loss=0.876264750957489 batch_id=390: 100%|████| 391/391 [01:11<00:00,  6.21it/s]\n",
            "\n",
            "Epoch: 5 Train set: Average loss: 0.0069, Accuracy: 68.834%\n",
            "Epoch: 5 Test set: Average loss: 0.8741, Accuracy: 70.330%\n",
            "Model saved as Test Accuracy increased from  68.0  to  70.33\n",
            "loss=0.7592629790306091 batch_id=390: 100%|███| 391/391 [01:12<00:00,  6.14it/s]\n",
            "\n",
            "Epoch: 6 Train set: Average loss: 0.0061, Accuracy: 72.500%\n",
            "Epoch: 6 Test set: Average loss: 0.7547, Accuracy: 73.840%\n",
            "Model saved as Test Accuracy increased from  70.33  to  73.84\n",
            "loss=0.9284589886665344 batch_id=390: 100%|███| 391/391 [01:11<00:00,  6.13it/s]\n",
            "\n",
            "Epoch: 7 Train set: Average loss: 0.0054, Accuracy: 75.688%\n",
            "Epoch: 7 Test set: Average loss: 0.7553, Accuracy: 74.000%\n",
            "Model saved as Test Accuracy increased from  73.84  to  74.0\n",
            "loss=0.4166508615016937 batch_id=390: 100%|███| 391/391 [01:12<00:00,  6.15it/s]\n",
            "\n",
            "Epoch: 8 Train set: Average loss: 0.0048, Accuracy: 78.666%\n",
            "Epoch: 8 Test set: Average loss: 0.6514, Accuracy: 78.150%\n",
            "Model saved as Test Accuracy increased from  74.0  to  78.15\n",
            "loss=0.4962899684906006 batch_id=390: 100%|███| 391/391 [01:12<00:00,  5.94it/s]\n",
            "\n",
            "Epoch: 9 Train set: Average loss: 0.0044, Accuracy: 80.602%\n",
            "Epoch: 9 Test set: Average loss: 0.5459, Accuracy: 81.600%\n",
            "Model saved as Test Accuracy increased from  78.15  to  81.6\n",
            "loss=0.48357075452804565 batch_id=390: 100%|██| 391/391 [01:12<00:00,  6.18it/s]\n",
            "\n",
            "Epoch: 10 Train set: Average loss: 0.0040, Accuracy: 82.094%\n",
            "Epoch: 10 Test set: Average loss: 0.4966, Accuracy: 83.880%\n",
            "Model saved as Test Accuracy increased from  81.6  to  83.88\n",
            "loss=0.45317134261131287 batch_id=390: 100%|██| 391/391 [01:12<00:00,  5.86it/s]\n",
            "\n",
            "Epoch: 11 Train set: Average loss: 0.0037, Accuracy: 83.784%\n",
            "Epoch: 11 Test set: Average loss: 0.4626, Accuracy: 84.200%\n",
            "Model saved as Test Accuracy increased from  83.88  to  84.2\n",
            "loss=0.5769476890563965 batch_id=390: 100%|███| 391/391 [01:12<00:00,  6.16it/s]\n",
            "\n",
            "Epoch: 12 Train set: Average loss: 0.0034, Accuracy: 84.862%\n",
            "Epoch: 12 Test set: Average loss: 0.4773, Accuracy: 84.250%\n",
            "Model saved as Test Accuracy increased from  84.2  to  84.25\n",
            "loss=0.4070493280887604 batch_id=390: 100%|███| 391/391 [01:12<00:00,  6.21it/s]\n",
            "\n",
            "Epoch: 13 Train set: Average loss: 0.0032, Accuracy: 86.094%\n",
            "Epoch: 13 Test set: Average loss: 0.4388, Accuracy: 85.440%\n",
            "Model saved as Test Accuracy increased from  84.25  to  85.44\n",
            "loss=0.40733957290649414 batch_id=390: 100%|██| 391/391 [01:12<00:00,  5.60it/s]\n",
            "\n",
            "Epoch: 14 Train set: Average loss: 0.0030, Accuracy: 86.838%\n",
            "Epoch: 14 Test set: Average loss: 0.4029, Accuracy: 86.850%\n",
            "Model saved as Test Accuracy increased from  85.44  to  86.85\n",
            "loss=0.4601556658744812 batch_id=390: 100%|███| 391/391 [01:12<00:00,  6.20it/s]\n",
            "\n",
            "Epoch: 15 Train set: Average loss: 0.0028, Accuracy: 87.778%\n",
            "Epoch: 15 Test set: Average loss: 0.3948, Accuracy: 87.040%\n",
            "Model saved as Test Accuracy increased from  86.85  to  87.04\n",
            "loss=0.32214289903640747 batch_id=390: 100%|██| 391/391 [01:12<00:00,  6.19it/s]\n",
            "\n",
            "Epoch: 16 Train set: Average loss: 0.0026, Accuracy: 88.582%\n",
            "Epoch: 16 Test set: Average loss: 0.4156, Accuracy: 86.790%\n",
            "loss=0.4970310628414154 batch_id=390: 100%|███| 391/391 [01:12<00:00,  6.19it/s]\n",
            "\n",
            "Epoch: 17 Train set: Average loss: 0.0025, Accuracy: 88.906%\n",
            "Epoch: 17 Test set: Average loss: 0.4192, Accuracy: 86.470%\n",
            "loss=0.18873460590839386 batch_id=390: 100%|██| 391/391 [01:12<00:00,  6.08it/s]\n",
            "\n",
            "Epoch: 18 Train set: Average loss: 0.0023, Accuracy: 89.576%\n",
            "Epoch: 18 Test set: Average loss: 0.3998, Accuracy: 87.410%\n",
            "Model saved as Test Accuracy increased from  87.04  to  87.41\n",
            "loss=0.36465129256248474 batch_id=390: 100%|██| 391/391 [01:12<00:00,  6.18it/s]\n",
            "\n",
            "Epoch: 19 Train set: Average loss: 0.0022, Accuracy: 90.304%\n",
            "Epoch: 19 Test set: Average loss: 0.3823, Accuracy: 87.900%\n",
            "Model saved as Test Accuracy increased from  87.41  to  87.9\n",
            "loss=0.18376204371452332 batch_id=390: 100%|██| 391/391 [01:12<00:00,  6.24it/s]\n",
            "\n",
            "Epoch: 20 Train set: Average loss: 0.0021, Accuracy: 90.858%\n",
            "Epoch: 20 Test set: Average loss: 0.3594, Accuracy: 88.790%\n",
            "Model saved as Test Accuracy increased from  87.9  to  88.79\n",
            "loss=0.1440262347459793 batch_id=390: 100%|███| 391/391 [01:12<00:00,  6.13it/s]\n",
            "\n",
            "Epoch: 21 Train set: Average loss: 0.0020, Accuracy: 91.224%\n",
            "Epoch: 21 Test set: Average loss: 0.3388, Accuracy: 89.310%\n",
            "Model saved as Test Accuracy increased from  88.79  to  89.31\n",
            "loss=0.35860568284988403 batch_id=390: 100%|██| 391/391 [01:12<00:00,  5.92it/s]\n",
            "\n",
            "Epoch: 22 Train set: Average loss: 0.0019, Accuracy: 91.734%\n",
            "Epoch: 22 Test set: Average loss: 0.3760, Accuracy: 88.150%\n",
            "loss=0.2953454852104187 batch_id=390: 100%|███| 391/391 [01:12<00:00,  6.22it/s]\n",
            "\n",
            "Epoch: 23 Train set: Average loss: 0.0018, Accuracy: 92.096%\n",
            "Epoch: 23 Test set: Average loss: 0.3701, Accuracy: 88.680%\n",
            "loss=0.2294303923845291 batch_id=390: 100%|███| 391/391 [01:12<00:00,  5.64it/s]\n",
            "\n",
            "Epoch: 24 Train set: Average loss: 0.0017, Accuracy: 92.444%\n",
            "Epoch: 24 Test set: Average loss: 0.3606, Accuracy: 89.230%\n",
            "loss=0.24168987572193146 batch_id=390: 100%|██| 391/391 [01:12<00:00,  6.10it/s]\n",
            "\n",
            "Epoch: 25 Train set: Average loss: 0.0016, Accuracy: 92.702%\n",
            "Epoch: 25 Test set: Average loss: 0.3363, Accuracy: 89.440%\n",
            "Model saved as Test Accuracy increased from  89.31  to  89.44\n",
            "loss=0.19587215781211853 batch_id=390: 100%|██| 391/391 [01:12<00:00,  6.16it/s]\n",
            "\n",
            "Epoch: 26 Train set: Average loss: 0.0015, Accuracy: 93.290%\n",
            "Epoch: 26 Test set: Average loss: 0.3715, Accuracy: 88.780%\n",
            "loss=0.14674536883831024 batch_id=390: 100%|██| 391/391 [01:12<00:00,  6.10it/s]\n",
            "\n",
            "Epoch: 27 Train set: Average loss: 0.0015, Accuracy: 93.302%\n",
            "Epoch: 27 Test set: Average loss: 0.3253, Accuracy: 90.190%\n",
            "Model saved as Test Accuracy increased from  89.44  to  90.19\n",
            "loss=0.17609895765781403 batch_id=390: 100%|██| 391/391 [01:12<00:00,  6.16it/s]\n",
            "\n",
            "Epoch: 28 Train set: Average loss: 0.0014, Accuracy: 93.872%\n",
            "Epoch: 28 Test set: Average loss: 0.3344, Accuracy: 90.160%\n",
            "loss=0.1369231641292572 batch_id=390: 100%|███| 391/391 [01:12<00:00,  6.10it/s]\n",
            "\n",
            "Epoch: 29 Train set: Average loss: 0.0013, Accuracy: 93.990%\n",
            "Epoch: 29 Test set: Average loss: 0.3267, Accuracy: 90.350%\n",
            "Model saved as Test Accuracy increased from  90.19  to  90.35\n",
            "loss=0.1027044802904129 batch_id=390: 100%|███| 391/391 [01:12<00:00,  6.11it/s]\n",
            "\n",
            "Epoch: 30 Train set: Average loss: 0.0012, Accuracy: 94.480%\n",
            "Epoch: 30 Test set: Average loss: 0.3899, Accuracy: 88.710%\n",
            "loss=0.21963505446910858 batch_id=390: 100%|██| 391/391 [01:12<00:00,  6.17it/s]\n",
            "\n",
            "Epoch: 31 Train set: Average loss: 0.0012, Accuracy: 94.472%\n",
            "Epoch: 31 Test set: Average loss: 0.3648, Accuracy: 89.860%\n",
            "loss=0.13853880763053894 batch_id=390: 100%|██| 391/391 [01:12<00:00,  6.22it/s]\n",
            "\n",
            "Epoch: 32 Train set: Average loss: 0.0011, Accuracy: 94.812%\n",
            "Epoch: 32 Test set: Average loss: 0.3249, Accuracy: 90.660%\n",
            "Model saved as Test Accuracy increased from  90.35  to  90.66\n",
            "loss=0.09477491676807404 batch_id=390: 100%|██| 391/391 [01:12<00:00,  6.04it/s]\n",
            "\n",
            "Epoch: 33 Train set: Average loss: 0.0011, Accuracy: 95.152%\n",
            "Epoch: 33 Test set: Average loss: 0.3021, Accuracy: 91.300%\n",
            "Model saved as Test Accuracy increased from  90.66  to  91.3\n",
            "loss=0.1048440933227539 batch_id=390: 100%|███| 391/391 [01:12<00:00,  5.65it/s]\n",
            "\n",
            "Epoch: 34 Train set: Average loss: 0.0010, Accuracy: 95.312%\n",
            "Epoch: 34 Test set: Average loss: 0.3574, Accuracy: 90.050%\n",
            "loss=0.26229730248451233 batch_id=390: 100%|██| 391/391 [01:12<00:00,  6.21it/s]\n",
            "\n",
            "Epoch: 35 Train set: Average loss: 0.0010, Accuracy: 95.290%\n",
            "Epoch: 35 Test set: Average loss: 0.3227, Accuracy: 91.030%\n",
            "loss=0.09192001819610596 batch_id=390: 100%|██| 391/391 [01:12<00:00,  6.19it/s]\n",
            "\n",
            "Epoch: 36 Train set: Average loss: 0.0007, Accuracy: 97.120%\n",
            "Epoch: 36 Test set: Average loss: 0.2981, Accuracy: 92.020%\n",
            "Model saved as Test Accuracy increased from  91.3  to  92.02\n",
            "loss=0.03359406441450119 batch_id=390: 100%|██| 391/391 [01:12<00:00,  6.11it/s]\n",
            "\n",
            "Epoch: 37 Train set: Average loss: 0.0005, Accuracy: 97.620%\n",
            "Epoch: 37 Test set: Average loss: 0.3003, Accuracy: 92.160%\n",
            "Model saved as Test Accuracy increased from  92.02  to  92.16\n",
            "loss=0.09526048600673676 batch_id=390: 100%|██| 391/391 [01:12<00:00,  6.21it/s]\n",
            "\n",
            "Epoch: 38 Train set: Average loss: 0.0005, Accuracy: 97.896%\n",
            "Epoch: 38 Test set: Average loss: 0.3095, Accuracy: 92.210%\n",
            "Model saved as Test Accuracy increased from  92.16  to  92.21\n",
            "loss=0.046340592205524445 batch_id=390: 100%|█| 391/391 [01:12<00:00,  6.13it/s]\n",
            "\n",
            "Epoch: 39 Train set: Average loss: 0.0004, Accuracy: 97.982%\n",
            "Epoch: 39 Test set: Average loss: 0.3082, Accuracy: 92.480%\n",
            "Model saved as Test Accuracy increased from  92.21  to  92.48\n",
            "loss=0.00960993766784668 batch_id=390: 100%|██| 391/391 [01:12<00:00,  6.26it/s]\n",
            "\n",
            "Epoch: 40 Train set: Average loss: 0.0004, Accuracy: 98.162%\n",
            "Epoch: 40 Test set: Average loss: 0.3174, Accuracy: 92.450%\n",
            "loss=0.02874356135725975 batch_id=390: 100%|██| 391/391 [01:12<00:00,  6.16it/s]\n",
            "\n",
            "Epoch: 41 Train set: Average loss: 0.0004, Accuracy: 98.320%\n",
            "Epoch: 41 Test set: Average loss: 0.3140, Accuracy: 92.440%\n",
            "loss=0.04992756247520447 batch_id=390: 100%|██| 391/391 [01:11<00:00,  6.08it/s]\n",
            "\n",
            "Epoch: 42 Train set: Average loss: 0.0004, Accuracy: 98.222%\n",
            "Epoch: 42 Test set: Average loss: 0.3122, Accuracy: 92.440%\n",
            "loss=0.010950314812362194 batch_id=390: 100%|█| 391/391 [01:12<00:00,  6.13it/s]\n",
            "\n",
            "Epoch: 43 Train set: Average loss: 0.0004, Accuracy: 98.288%\n",
            "Epoch: 43 Test set: Average loss: 0.3138, Accuracy: 92.490%\n",
            "Model saved as Test Accuracy increased from  92.48  to  92.49\n",
            "loss=0.08880790323019028 batch_id=390: 100%|██| 391/391 [01:12<00:00,  5.60it/s]\n",
            "\n",
            "Epoch: 44 Train set: Average loss: 0.0004, Accuracy: 98.374%\n",
            "Epoch: 44 Test set: Average loss: 0.3137, Accuracy: 92.550%\n",
            "Model saved as Test Accuracy increased from  92.49  to  92.55\n",
            "loss=0.01752110756933689 batch_id=390: 100%|██| 391/391 [01:12<00:00,  6.18it/s]\n",
            "\n",
            "Epoch: 45 Train set: Average loss: 0.0004, Accuracy: 98.350%\n",
            "Epoch: 45 Test set: Average loss: 0.3150, Accuracy: 92.520%\n",
            "loss=0.08285171538591385 batch_id=390: 100%|██| 391/391 [01:12<00:00,  6.09it/s]\n",
            "\n",
            "Epoch: 46 Train set: Average loss: 0.0004, Accuracy: 98.350%\n",
            "Epoch: 46 Test set: Average loss: 0.3148, Accuracy: 92.420%\n",
            "loss=0.07805092632770538 batch_id=390: 100%|██| 391/391 [01:12<00:00,  6.16it/s]\n",
            "\n",
            "Epoch: 47 Train set: Average loss: 0.0004, Accuracy: 98.310%\n",
            "Epoch: 47 Test set: Average loss: 0.3147, Accuracy: 92.490%\n",
            "loss=0.03394598886370659 batch_id=390: 100%|██| 391/391 [01:12<00:00,  6.18it/s]\n",
            "\n",
            "Epoch: 48 Train set: Average loss: 0.0004, Accuracy: 98.340%\n",
            "Epoch: 48 Test set: Average loss: 0.3158, Accuracy: 92.530%\n",
            "loss=0.18326137959957123 batch_id=390: 100%|██| 391/391 [01:12<00:00,  6.14it/s]\n",
            "\n",
            "Epoch: 49 Train set: Average loss: 0.0004, Accuracy: 98.454%\n",
            "Epoch: 49 Test set: Average loss: 0.3127, Accuracy: 92.460%\n",
            "loss=0.00830773077905178 batch_id=390: 100%|██| 391/391 [01:12<00:00,  6.17it/s]\n",
            "\n",
            "Epoch: 50 Train set: Average loss: 0.0004, Accuracy: 98.390%\n",
            "Epoch: 50 Test set: Average loss: 0.3174, Accuracy: 92.430%\n",
            "Final model save path: /content/drive/My Drive/EVA4/model_saves/model-ddf45e38f9.h5  best Accuracy: 92.55\n",
            "\n",
            "\u001b[34m\u001b[1mwandb\u001b[0m: Waiting for W&B process to finish, PID 685\n",
            "\u001b[34m\u001b[1mwandb\u001b[0m: Program ended successfully.\n",
            "\u001b[34m\u001b[1mwandb\u001b[0m: Run summary:\n",
            "\u001b[34m\u001b[1mwandb\u001b[0m:                                _runtime 3833.538307905197\n",
            "\u001b[34m\u001b[1mwandb\u001b[0m:                              Train Loss 0.0003550569724664092\n",
            "\u001b[34m\u001b[1mwandb\u001b[0m:                               Test Loss 0.3174428506851196\n",
            "\u001b[34m\u001b[1mwandb\u001b[0m:                              _timestamp 1583481705.7607286\n",
            "\u001b[34m\u001b[1mwandb\u001b[0m:                                   _step 49\n",
            "\u001b[34m\u001b[1mwandb\u001b[0m:                          Train Accuracy 98.39\n",
            "\u001b[34m\u001b[1mwandb\u001b[0m:                           Test Accuracy 92.43\n",
            "\u001b[34m\u001b[1mwandb\u001b[0m: Syncing files in wandb/run-20200306_065754-sf2ld5bx:\n",
            "\u001b[34m\u001b[1mwandb\u001b[0m:   code/drive/My Drive/EVA4/RekogNizer/train_s8_new.py\n",
            "\u001b[34m\u001b[1mwandb\u001b[0m: plus 7 W&B file(s) and 1 media file(s)\n",
            "\u001b[34m\u001b[1mwandb\u001b[0m:                                                                                \n",
            "\u001b[34m\u001b[1mwandb\u001b[0m: Synced dulcet-darkness-787: https://app.wandb.ai/rajy4683/news5/runs/sf2ld5bx\n"
          ],
          "name": "stdout"
        }
      ]
    },
    {
      "cell_type": "code",
      "metadata": {
        "id": "9P3X3qNEdBxB",
        "colab_type": "code",
        "colab": {}
      },
      "source": [
        "!cp /content/drive/My\\ Drive/EVA4/model_saves/model-ddf45e38f9.h5 /content/drive/My\\ Drive/EVA4/baseline_models"
      ],
      "execution_count": 0,
      "outputs": []
    },
    {
      "cell_type": "code",
      "metadata": {
        "id": "co-iSigIVfGR",
        "colab_type": "code",
        "colab": {}
      },
      "source": [
        "from RekogNizer import traintest\n",
        "from RekogNizer import logger\n",
        "from RekogNizer import fileutils\n",
        "from RekogNizer import basemodelclass\n",
        "from RekogNizer import dataloader\n",
        "\n",
        "import pandas as pd\n",
        "import numpy as np\n",
        "import torch"
      ],
      "execution_count": 0,
      "outputs": []
    },
    {
      "cell_type": "code",
      "metadata": {
        "id": "3ufqueQgdO-6",
        "colab_type": "code",
        "colab": {}
      },
      "source": [
        "run_list = [\"rajy4683/news5/runs/sf2ld5bx\"]\n",
        "runs_df = logger.get_wandb_dataframes(run_list=run_list)\n",
        "new_df = pd.DataFrame().append(runs_df)"
      ],
      "execution_count": 0,
      "outputs": []
    },
    {
      "cell_type": "code",
      "metadata": {
        "id": "I8si8lg9di2a",
        "colab_type": "code",
        "outputId": "61d30bf3-3140-4e5b-fe80-0ff1d5268826",
        "colab": {
          "base_uri": "https://localhost:8080/",
          "height": 759
        }
      },
      "source": [
        "fileutils.plot_graphs([new_df],\n",
        "            ['Train Accuracy', 'Test Accuracy'],\n",
        "            columns=['Train Accuracy', 'Test Accuracy'],\n",
        "            xlabel=\"Epochs\",\n",
        "            ylabel=\"Accuracy\")\n",
        "\n",
        "fileutils.plot_graphs([new_df],\n",
        "            ['Train Loss', 'Test Loss'],\n",
        "            columns=['Train Loss', 'Test Loss'],\n",
        "            xlabel=\"Epochs\",\n",
        "            ylabel=\"Loss\")"
      ],
      "execution_count": 12,
      "outputs": [
        {
          "output_type": "display_data",
          "data": {
            "image/png": "[encoded data removed]",
            "text/plain": [
              "<Figure size 1080x432 with 1 Axes>"
            ]
          },
          "metadata": {
            "tags": []
          }
        },
        {
          "output_type": "display_data",
          "data": {
            "image/png": "[encoded data removed]",
            "text/plain": [
              "<Figure size 1080x432 with 1 Axes>"
            ]
          },
          "metadata": {
            "tags": []
          }
        }
      ]
    },
    {
      "cell_type": "code",
      "metadata": {
        "id": "Co8YWVekVDiD",
        "colab_type": "code",
        "colab": {}
      },
      "source": [
        "%load_ext autoreload\n",
        "%autoreload 2\n",
        "from RekogNizer import traintest\n",
        "import torchvision.transforms as transforms\n",
        "import torchvision\n",
        "\n",
        "my_model,acc = traintest.model_builder2(basemodelclass.ResNet18(0.1), weights_path=\"/content/drive/My Drive/EVA4/model_saves/model-ddf45e38f9.h5\")\n",
        "#class_accuracy_dict = traintest.classwise_accuracy(my_model, testloader, classes, device=torch.device(\"cpu\"))"
      ],
      "execution_count": 0,
      "outputs": []
    },
    {
      "cell_type": "code",
      "metadata": {
        "id": "Z7HhUcFyLN67",
        "colab_type": "code",
        "outputId": "1917b0f9-9a97-4e9b-f278-dada24bd37f9",
        "colab": {
          "base_uri": "https://localhost:8080/",
          "height": 202
        }
      },
      "source": [
        "from RekogNizer import hyperparams\n",
        "transform_test = transforms.Compose(\n",
        "    [transforms.ToTensor(),\n",
        "    transforms.Normalize((0.5, 0.5, 0.5), (0.5, 0.5, 0.5))])\n",
        "testset = torchvision.datasets.CIFAR10(root='./data', train=False,\n",
        "                                    download=True, transform=transform_test)\n",
        "testloader = dataloader.get_dataloader(testset, hyperparams.hyperparameter_defaults['batch_size'], shuffle=False, num_workers=2)\n",
        "class_accuracy_dict = traintest.classwise_accuracy(my_model, testloader, dataloader.classes, device=torch.device(\"cuda\"))"
      ],
      "execution_count": 14,
      "outputs": [
        {
          "output_type": "stream",
          "text": [
            "Files already downloaded and verified\n",
            "Accuracy of plane : 90 %\n",
            "Accuracy of   car : 95 %\n",
            "Accuracy of  bird : 85 %\n",
            "Accuracy of   cat : 81 %\n",
            "Accuracy of  deer : 88 %\n",
            "Accuracy of   dog : 83 %\n",
            "Accuracy of  frog : 92 %\n",
            "Accuracy of horse : 93 %\n",
            "Accuracy of  ship : 94 %\n",
            "Accuracy of truck : 91 %\n"
          ],
          "name": "stdout"
        }
      ]
    },
    {
      "cell_type": "code",
      "metadata": {
        "id": "lbctloPgVlQ_",
        "colab_type": "code",
        "outputId": "da32860c-3a90-4699-f52a-86c6d00b1833",
        "colab": {
          "base_uri": "https://localhost:8080/",
          "height": 285
        }
      },
      "source": [
        "%matplotlib inline\n",
        "import matplotlib.pyplot as plt\n",
        "\n",
        "plt.bar([key for key in class_accuracy_dict.keys()],[val for val in class_accuracy_dict.values()])"
      ],
      "execution_count": 15,
      "outputs": [
        {
          "output_type": "execute_result",
          "data": {
            "text/plain": [
              "<BarContainer object of 10 artists>"
            ]
          },
          "metadata": {
            "tags": []
          },
          "execution_count": 15
        },
        {
          "output_type": "display_data",
          "data": {
            "image/png": "[encoded data removed]",
            "text/plain": [
              "<Figure size 432x288 with 1 Axes>"
            ]
          },
          "metadata": {
            "tags": []
          }
        }
      ]
    }
  ]
}